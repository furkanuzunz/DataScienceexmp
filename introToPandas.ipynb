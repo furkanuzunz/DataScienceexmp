{
 "cells": [
  {
   "cell_type": "code",
   "execution_count": 1,
   "id": "892e8a82-ae79-4b22-beab-70000f138003",
   "metadata": {},
   "outputs": [],
   "source": [
    "import numpy as np"
   ]
  },
  {
   "cell_type": "code",
   "execution_count": 5,
   "id": "aecd0b46-dc72-4c38-aa3b-a5fdc06768d8",
   "metadata": {},
   "outputs": [],
   "source": [
    "import pandas as pd"
   ]
  },
  {
   "cell_type": "code",
   "execution_count": 6,
   "id": "2d8c4c8d-257c-4b1e-a992-fe8f222988f7",
   "metadata": {},
   "outputs": [],
   "source": [
    "grades = {\"Atil\":50,\"James\":60,\"Lars\":30}"
   ]
  },
  {
   "cell_type": "code",
   "execution_count": 7,
   "id": "805f76a9-afbb-4757-9020-4b48e046aa1c",
   "metadata": {},
   "outputs": [
    {
     "data": {
      "text/plain": [
       "Atil     50\n",
       "James    60\n",
       "Lars     30\n",
       "dtype: int64"
      ]
     },
     "execution_count": 7,
     "metadata": {},
     "output_type": "execute_result"
    }
   ],
   "source": [
    "pd.Series(grades)"
   ]
  },
  {
   "cell_type": "code",
   "execution_count": 8,
   "id": "9e99593a-4fdc-46ae-9c04-393b159d9370",
   "metadata": {},
   "outputs": [],
   "source": [
    "#series aslında dataframein tek bir sütunudur."
   ]
  },
  {
   "cell_type": "code",
   "execution_count": 10,
   "id": "f53ae923-e32f-4063-8086-3cb32765b2a7",
   "metadata": {},
   "outputs": [],
   "source": [
    "names = [\"Atil\",\"James\",\"Lars\"]\n",
    "grades = [50,60,30]"
   ]
  },
  {
   "cell_type": "code",
   "execution_count": 11,
   "id": "8b4e17a0-5771-4972-8c66-6bae4e45bcaf",
   "metadata": {},
   "outputs": [
    {
     "data": {
      "text/plain": [
       "0     Atil\n",
       "1    James\n",
       "2     Lars\n",
       "dtype: object"
      ]
     },
     "execution_count": 11,
     "metadata": {},
     "output_type": "execute_result"
    }
   ],
   "source": [
    "pd.Series(names)"
   ]
  },
  {
   "cell_type": "code",
   "execution_count": 12,
   "id": "70e16ccc-825f-4efa-9284-3c44607a7907",
   "metadata": {},
   "outputs": [
    {
     "data": {
      "text/plain": [
       "0    50\n",
       "1    60\n",
       "2    30\n",
       "dtype: int64"
      ]
     },
     "execution_count": 12,
     "metadata": {},
     "output_type": "execute_result"
    }
   ],
   "source": [
    "pd.Series(grades)"
   ]
  },
  {
   "cell_type": "code",
   "execution_count": 13,
   "id": "dd31eb79-6fb0-4a54-86bb-3ff151843cb9",
   "metadata": {},
   "outputs": [
    {
     "data": {
      "text/plain": [
       "Atil     50\n",
       "James    60\n",
       "Lars     30\n",
       "dtype: int64"
      ]
     },
     "execution_count": 13,
     "metadata": {},
     "output_type": "execute_result"
    }
   ],
   "source": [
    "pd.Series(grades,names)"
   ]
  },
  {
   "cell_type": "code",
   "execution_count": 14,
   "id": "81f43fb4-3391-494b-b6df-55924fcbd79e",
   "metadata": {},
   "outputs": [
    {
     "data": {
      "text/plain": [
       "Atil     50\n",
       "James    60\n",
       "Lars     30\n",
       "dtype: int64"
      ]
     },
     "execution_count": 14,
     "metadata": {},
     "output_type": "execute_result"
    }
   ],
   "source": [
    "pd.Series(data=grades, index=names)\n"
   ]
  },
  {
   "cell_type": "code",
   "execution_count": 15,
   "id": "58e66954-7237-48f7-a699-86c0d86b5cc8",
   "metadata": {},
   "outputs": [],
   "source": [
    "numpy_array = np.array([50,40,30,20])\n"
   ]
  },
  {
   "cell_type": "code",
   "execution_count": 16,
   "id": "1fef6c25-0ab8-4219-91da-8fc259aafc13",
   "metadata": {},
   "outputs": [
    {
     "data": {
      "text/plain": [
       "0    50\n",
       "1    40\n",
       "2    30\n",
       "3    20\n",
       "dtype: Int64"
      ]
     },
     "execution_count": 16,
     "metadata": {},
     "output_type": "execute_result"
    }
   ],
   "source": [
    "pd.Series(numpy_array)"
   ]
  },
  {
   "cell_type": "code",
   "execution_count": 17,
   "id": "7e35de93-10c6-4d57-a276-b230905fdc01",
   "metadata": {},
   "outputs": [],
   "source": [
    "#arithmetic"
   ]
  },
  {
   "cell_type": "code",
   "execution_count": 18,
   "id": "f96fe139-db98-4ab1-8fd5-2cd940d0b374",
   "metadata": {},
   "outputs": [],
   "source": [
    "contes_result = pd.Series(data=[10,5,100], index = [\"Atil\",\"James\",\"Lars\"])"
   ]
  },
  {
   "cell_type": "code",
   "execution_count": 19,
   "id": "f2ad6603-d9ba-41cf-b13d-8caf205c9c89",
   "metadata": {},
   "outputs": [],
   "source": [
    "contest_result2 = pd.Series([20,50,10],[\"Atil\",\"James\",\"Lars\"])\n"
   ]
  },
  {
   "cell_type": "code",
   "execution_count": 20,
   "id": "96c77745-afa1-4fe8-8bc3-9946fac459ae",
   "metadata": {},
   "outputs": [
    {
     "data": {
      "text/plain": [
       "np.int64(10)"
      ]
     },
     "execution_count": 20,
     "metadata": {},
     "output_type": "execute_result"
    }
   ],
   "source": [
    "contes_result[\"Atil\"]"
   ]
  },
  {
   "cell_type": "code",
   "execution_count": 21,
   "id": "57e8c68c-90f4-4cd0-b5ff-d734ec5c3c6e",
   "metadata": {},
   "outputs": [
    {
     "data": {
      "text/plain": [
       "np.int64(20)"
      ]
     },
     "execution_count": 21,
     "metadata": {},
     "output_type": "execute_result"
    }
   ],
   "source": [
    "contest_result2[\"Atil\"]"
   ]
  },
  {
   "cell_type": "code",
   "execution_count": 22,
   "id": "cda9c8d8-8703-48f6-99fd-ee3ec1d83585",
   "metadata": {},
   "outputs": [],
   "source": [
    "final_result = contes_result + contest_result2"
   ]
  },
  {
   "cell_type": "code",
   "execution_count": 23,
   "id": "6e8897db-940a-45b9-a54a-0c317b404fc8",
   "metadata": {},
   "outputs": [
    {
     "data": {
      "text/plain": [
       "Atil      30\n",
       "James     55\n",
       "Lars     110\n",
       "dtype: int64"
      ]
     },
     "execution_count": 23,
     "metadata": {},
     "output_type": "execute_result"
    }
   ],
   "source": [
    "final_result"
   ]
  },
  {
   "cell_type": "code",
   "execution_count": 26,
   "id": "78775eff-5e82-49cd-b2c5-a43abcec58a7",
   "metadata": {},
   "outputs": [],
   "source": [
    "#if indices are different, indeksler yani"
   ]
  },
  {
   "cell_type": "code",
   "execution_count": 25,
   "id": "f9a4e4db-d4c5-40ce-9ee8-2fff24e99060",
   "metadata": {},
   "outputs": [],
   "source": [
    "different_series = pd.Series([20,30,40,50],[\"a\",\"b\",\"c\",\"d\"])"
   ]
  },
  {
   "cell_type": "code",
   "execution_count": 27,
   "id": "d456b8e1-98ba-4515-8411-ceb74110323a",
   "metadata": {},
   "outputs": [],
   "source": [
    "different_series_2 = pd.Series([10,5,3,1],[\"a\",\"c\",\"f\",\"g\"])\n"
   ]
  },
  {
   "cell_type": "code",
   "execution_count": 28,
   "id": "033dd147-45b5-4829-8aac-a3b188439f1e",
   "metadata": {},
   "outputs": [
    {
     "data": {
      "text/plain": [
       "a    30.0\n",
       "b     NaN\n",
       "c    45.0\n",
       "d     NaN\n",
       "f     NaN\n",
       "g     NaN\n",
       "dtype: float64"
      ]
     },
     "execution_count": 28,
     "metadata": {},
     "output_type": "execute_result"
    }
   ],
   "source": [
    "different_series + different_series_2"
   ]
  },
  {
   "cell_type": "code",
   "execution_count": null,
   "id": "cd422cef-54a0-4639-978f-bb1730d8380c",
   "metadata": {},
   "outputs": [],
   "source": []
  }
 ],
 "metadata": {
  "kernelspec": {
   "display_name": "Python [conda env:base] *",
   "language": "python",
   "name": "conda-base-py"
  },
  "language_info": {
   "codemirror_mode": {
    "name": "ipython",
    "version": 3
   },
   "file_extension": ".py",
   "mimetype": "text/x-python",
   "name": "python",
   "nbconvert_exporter": "python",
   "pygments_lexer": "ipython3",
   "version": "3.13.5"
  }
 },
 "nbformat": 4,
 "nbformat_minor": 5
}
