{
 "cells": [
  {
   "cell_type": "code",
   "execution_count": 1,
   "id": "3e4a4e13-fd52-4496-b3c5-f16a8013a5a6",
   "metadata": {},
   "outputs": [],
   "source": [
    "import pandas as pd"
   ]
  },
  {
   "cell_type": "code",
   "execution_count": 2,
   "id": "9cca3dd8-b1fd-4656-9d33-547c63a0af5c",
   "metadata": {},
   "outputs": [],
   "source": [
    "import numpy as np"
   ]
  },
  {
   "cell_type": "code",
   "execution_count": 3,
   "id": "0112eaee-45ff-4f93-b0da-4b2248050c59",
   "metadata": {},
   "outputs": [],
   "source": [
    "data = np.random.randn(4,3)\n"
   ]
  },
  {
   "cell_type": "code",
   "execution_count": 4,
   "id": "b5aa23a5-48f5-41e2-ac07-f72ee89c44a7",
   "metadata": {},
   "outputs": [
    {
     "data": {
      "text/plain": [
       "array([[-2.47379832,  0.44036906, -0.64249854],\n",
       "       [ 0.77290211, -0.70391369,  0.53598838],\n",
       "       [-1.55801267, -0.71509671, -0.36154835],\n",
       "       [ 1.57100891,  2.11476948,  0.02360962]])"
      ]
     },
     "execution_count": 4,
     "metadata": {},
     "output_type": "execute_result"
    }
   ],
   "source": [
    "data"
   ]
  },
  {
   "cell_type": "code",
   "execution_count": 5,
   "id": "dceb4379-7491-49b4-9787-04332f542aa5",
   "metadata": {},
   "outputs": [],
   "source": [
    "data_frame = pd.DataFrame(data)"
   ]
  },
  {
   "cell_type": "code",
   "execution_count": 6,
   "id": "14e37c7d-5384-4b92-a43c-e7891857dfa1",
   "metadata": {},
   "outputs": [
    {
     "data": {
      "text/html": [
       "<div>\n",
       "<style scoped>\n",
       "    .dataframe tbody tr th:only-of-type {\n",
       "        vertical-align: middle;\n",
       "    }\n",
       "\n",
       "    .dataframe tbody tr th {\n",
       "        vertical-align: top;\n",
       "    }\n",
       "\n",
       "    .dataframe thead th {\n",
       "        text-align: right;\n",
       "    }\n",
       "</style>\n",
       "<table border=\"1\" class=\"dataframe\">\n",
       "  <thead>\n",
       "    <tr style=\"text-align: right;\">\n",
       "      <th></th>\n",
       "      <th>0</th>\n",
       "      <th>1</th>\n",
       "      <th>2</th>\n",
       "    </tr>\n",
       "  </thead>\n",
       "  <tbody>\n",
       "    <tr>\n",
       "      <th>0</th>\n",
       "      <td>-2.473798</td>\n",
       "      <td>0.440369</td>\n",
       "      <td>-0.642499</td>\n",
       "    </tr>\n",
       "    <tr>\n",
       "      <th>1</th>\n",
       "      <td>0.772902</td>\n",
       "      <td>-0.703914</td>\n",
       "      <td>0.535988</td>\n",
       "    </tr>\n",
       "    <tr>\n",
       "      <th>2</th>\n",
       "      <td>-1.558013</td>\n",
       "      <td>-0.715097</td>\n",
       "      <td>-0.361548</td>\n",
       "    </tr>\n",
       "    <tr>\n",
       "      <th>3</th>\n",
       "      <td>1.571009</td>\n",
       "      <td>2.114769</td>\n",
       "      <td>0.023610</td>\n",
       "    </tr>\n",
       "  </tbody>\n",
       "</table>\n",
       "</div>"
      ],
      "text/plain": [
       "          0         1         2\n",
       "0 -2.473798  0.440369 -0.642499\n",
       "1  0.772902 -0.703914  0.535988\n",
       "2 -1.558013 -0.715097 -0.361548\n",
       "3  1.571009  2.114769  0.023610"
      ]
     },
     "execution_count": 6,
     "metadata": {},
     "output_type": "execute_result"
    }
   ],
   "source": [
    "data_frame"
   ]
  },
  {
   "cell_type": "code",
   "execution_count": 7,
   "id": "976e78ee-45ee-439e-8075-725a6e59af66",
   "metadata": {},
   "outputs": [
    {
     "data": {
      "text/plain": [
       "pandas.core.frame.DataFrame"
      ]
     },
     "execution_count": 7,
     "metadata": {},
     "output_type": "execute_result"
    }
   ],
   "source": [
    "type(data_frame)"
   ]
  },
  {
   "cell_type": "code",
   "execution_count": 8,
   "id": "64311ce0-005e-41c5-9cfe-13948e9001c5",
   "metadata": {},
   "outputs": [
    {
     "data": {
      "text/plain": [
       "0   -2.473798\n",
       "1    0.772902\n",
       "2   -1.558013\n",
       "3    1.571009\n",
       "Name: 0, dtype: float64"
      ]
     },
     "execution_count": 8,
     "metadata": {},
     "output_type": "execute_result"
    }
   ],
   "source": [
    "data_frame[0]"
   ]
  },
  {
   "cell_type": "code",
   "execution_count": 9,
   "id": "16494c5d-b3a2-451b-a60c-a7b13fd2069b",
   "metadata": {},
   "outputs": [
    {
     "data": {
      "text/plain": [
       "pandas.core.series.Series"
      ]
     },
     "execution_count": 9,
     "metadata": {},
     "output_type": "execute_result"
    }
   ],
   "source": [
    "type(data_frame[0])"
   ]
  },
  {
   "cell_type": "code",
   "execution_count": 10,
   "id": "b4158b5c-0b6d-49a1-8b2b-a15be0d1eb26",
   "metadata": {},
   "outputs": [],
   "source": [
    "new_df = pd.DataFrame(data,index=[\"Atil\",\"Zeynep\",\"Atlas\",\"Mehmet\"],columns = [\"Salary\",\"Age\",\"Seniority\"])"
   ]
  },
  {
   "cell_type": "code",
   "execution_count": 11,
   "id": "7718fd02-4aea-491a-8c43-5876e444639c",
   "metadata": {},
   "outputs": [
    {
     "data": {
      "text/html": [
       "<div>\n",
       "<style scoped>\n",
       "    .dataframe tbody tr th:only-of-type {\n",
       "        vertical-align: middle;\n",
       "    }\n",
       "\n",
       "    .dataframe tbody tr th {\n",
       "        vertical-align: top;\n",
       "    }\n",
       "\n",
       "    .dataframe thead th {\n",
       "        text-align: right;\n",
       "    }\n",
       "</style>\n",
       "<table border=\"1\" class=\"dataframe\">\n",
       "  <thead>\n",
       "    <tr style=\"text-align: right;\">\n",
       "      <th></th>\n",
       "      <th>Salary</th>\n",
       "      <th>Age</th>\n",
       "      <th>Seniority</th>\n",
       "    </tr>\n",
       "  </thead>\n",
       "  <tbody>\n",
       "    <tr>\n",
       "      <th>Atil</th>\n",
       "      <td>-2.473798</td>\n",
       "      <td>0.440369</td>\n",
       "      <td>-0.642499</td>\n",
       "    </tr>\n",
       "    <tr>\n",
       "      <th>Zeynep</th>\n",
       "      <td>0.772902</td>\n",
       "      <td>-0.703914</td>\n",
       "      <td>0.535988</td>\n",
       "    </tr>\n",
       "    <tr>\n",
       "      <th>Atlas</th>\n",
       "      <td>-1.558013</td>\n",
       "      <td>-0.715097</td>\n",
       "      <td>-0.361548</td>\n",
       "    </tr>\n",
       "    <tr>\n",
       "      <th>Mehmet</th>\n",
       "      <td>1.571009</td>\n",
       "      <td>2.114769</td>\n",
       "      <td>0.023610</td>\n",
       "    </tr>\n",
       "  </tbody>\n",
       "</table>\n",
       "</div>"
      ],
      "text/plain": [
       "          Salary       Age  Seniority\n",
       "Atil   -2.473798  0.440369  -0.642499\n",
       "Zeynep  0.772902 -0.703914   0.535988\n",
       "Atlas  -1.558013 -0.715097  -0.361548\n",
       "Mehmet  1.571009  2.114769   0.023610"
      ]
     },
     "execution_count": 11,
     "metadata": {},
     "output_type": "execute_result"
    }
   ],
   "source": [
    "new_df"
   ]
  },
  {
   "cell_type": "code",
   "execution_count": 12,
   "id": "42da3e0e-47b7-40da-a2e1-920b2acd03e0",
   "metadata": {},
   "outputs": [
    {
     "data": {
      "text/plain": [
       "Atil      0.440369\n",
       "Zeynep   -0.703914\n",
       "Atlas    -0.715097\n",
       "Mehmet    2.114769\n",
       "Name: Age, dtype: float64"
      ]
     },
     "execution_count": 12,
     "metadata": {},
     "output_type": "execute_result"
    }
   ],
   "source": [
    "new_df[\"Age\"]"
   ]
  },
  {
   "cell_type": "code",
   "execution_count": 13,
   "id": "e5dc7213-689f-4af1-ab62-b28c789ab219",
   "metadata": {},
   "outputs": [
    {
     "data": {
      "text/html": [
       "<div>\n",
       "<style scoped>\n",
       "    .dataframe tbody tr th:only-of-type {\n",
       "        vertical-align: middle;\n",
       "    }\n",
       "\n",
       "    .dataframe tbody tr th {\n",
       "        vertical-align: top;\n",
       "    }\n",
       "\n",
       "    .dataframe thead th {\n",
       "        text-align: right;\n",
       "    }\n",
       "</style>\n",
       "<table border=\"1\" class=\"dataframe\">\n",
       "  <thead>\n",
       "    <tr style=\"text-align: right;\">\n",
       "      <th></th>\n",
       "      <th>Age</th>\n",
       "      <th>Salary</th>\n",
       "    </tr>\n",
       "  </thead>\n",
       "  <tbody>\n",
       "    <tr>\n",
       "      <th>Atil</th>\n",
       "      <td>0.440369</td>\n",
       "      <td>-2.473798</td>\n",
       "    </tr>\n",
       "    <tr>\n",
       "      <th>Zeynep</th>\n",
       "      <td>-0.703914</td>\n",
       "      <td>0.772902</td>\n",
       "    </tr>\n",
       "    <tr>\n",
       "      <th>Atlas</th>\n",
       "      <td>-0.715097</td>\n",
       "      <td>-1.558013</td>\n",
       "    </tr>\n",
       "    <tr>\n",
       "      <th>Mehmet</th>\n",
       "      <td>2.114769</td>\n",
       "      <td>1.571009</td>\n",
       "    </tr>\n",
       "  </tbody>\n",
       "</table>\n",
       "</div>"
      ],
      "text/plain": [
       "             Age    Salary\n",
       "Atil    0.440369 -2.473798\n",
       "Zeynep -0.703914  0.772902\n",
       "Atlas  -0.715097 -1.558013\n",
       "Mehmet  2.114769  1.571009"
      ]
     },
     "execution_count": 13,
     "metadata": {},
     "output_type": "execute_result"
    }
   ],
   "source": [
    "new_df[[\"Age\",\"Salary\"]]"
   ]
  },
  {
   "cell_type": "code",
   "execution_count": 14,
   "id": "e504c31d-e678-4f81-98ce-49b78109fd91",
   "metadata": {},
   "outputs": [],
   "source": [
    "#satır yani row için ise loc metodunu kullanırız."
   ]
  },
  {
   "cell_type": "code",
   "execution_count": 15,
   "id": "d8646250-59d8-4be7-8809-b51308088383",
   "metadata": {},
   "outputs": [
    {
     "data": {
      "text/plain": [
       "Salary      -2.473798\n",
       "Age          0.440369\n",
       "Seniority   -0.642499\n",
       "Name: Atil, dtype: float64"
      ]
     },
     "execution_count": 15,
     "metadata": {},
     "output_type": "execute_result"
    }
   ],
   "source": [
    "new_df.loc[\"Atil\"]"
   ]
  },
  {
   "cell_type": "code",
   "execution_count": 16,
   "id": "876e3f2a-d630-4247-a380-f44216799d87",
   "metadata": {},
   "outputs": [
    {
     "data": {
      "text/plain": [
       "Salary      -2.473798\n",
       "Age          0.440369\n",
       "Seniority   -0.642499\n",
       "Name: Atil, dtype: float64"
      ]
     },
     "execution_count": 16,
     "metadata": {},
     "output_type": "execute_result"
    }
   ],
   "source": [
    "new_df.iloc[0]"
   ]
  },
  {
   "cell_type": "code",
   "execution_count": 17,
   "id": "234fa629-e7ec-4e12-93ea-580575d37424",
   "metadata": {},
   "outputs": [],
   "source": [
    "# iloc aslında şu demek, locationu indekse göre locate etmek."
   ]
  },
  {
   "cell_type": "code",
   "execution_count": 18,
   "id": "0b953bcb-82c1-49a8-9d83-bd3f173ef3ae",
   "metadata": {},
   "outputs": [
    {
     "data": {
      "text/plain": [
       "0   -2.473798\n",
       "1    0.772902\n",
       "2   -1.558013\n",
       "3    1.571009\n",
       "Name: 0, dtype: float64"
      ]
     },
     "execution_count": 18,
     "metadata": {},
     "output_type": "execute_result"
    }
   ],
   "source": [
    "data_frame[0]"
   ]
  },
  {
   "cell_type": "code",
   "execution_count": 19,
   "id": "ffe94363-dff5-4e1b-bd94-4e348d46fe56",
   "metadata": {},
   "outputs": [],
   "source": [
    "##data manipulation"
   ]
  },
  {
   "cell_type": "code",
   "execution_count": 24,
   "id": "36577d0c-acdd-4415-b965-f3833baf7764",
   "metadata": {},
   "outputs": [],
   "source": [
    "new_df[\"extra\"] = 10 ## bu şekilde hepsine 10 atar"
   ]
  },
  {
   "cell_type": "code",
   "execution_count": 22,
   "id": "e6b0ed41-7b23-4f0f-9b42-ae005bf8a509",
   "metadata": {},
   "outputs": [
    {
     "data": {
      "text/html": [
       "<div>\n",
       "<style scoped>\n",
       "    .dataframe tbody tr th:only-of-type {\n",
       "        vertical-align: middle;\n",
       "    }\n",
       "\n",
       "    .dataframe tbody tr th {\n",
       "        vertical-align: top;\n",
       "    }\n",
       "\n",
       "    .dataframe thead th {\n",
       "        text-align: right;\n",
       "    }\n",
       "</style>\n",
       "<table border=\"1\" class=\"dataframe\">\n",
       "  <thead>\n",
       "    <tr style=\"text-align: right;\">\n",
       "      <th></th>\n",
       "      <th>Salary</th>\n",
       "      <th>Age</th>\n",
       "      <th>Seniority</th>\n",
       "      <th>extra</th>\n",
       "    </tr>\n",
       "  </thead>\n",
       "  <tbody>\n",
       "    <tr>\n",
       "      <th>Atil</th>\n",
       "      <td>-2.473798</td>\n",
       "      <td>0.440369</td>\n",
       "      <td>-0.642499</td>\n",
       "      <td>10</td>\n",
       "    </tr>\n",
       "    <tr>\n",
       "      <th>Zeynep</th>\n",
       "      <td>0.772902</td>\n",
       "      <td>-0.703914</td>\n",
       "      <td>0.535988</td>\n",
       "      <td>10</td>\n",
       "    </tr>\n",
       "    <tr>\n",
       "      <th>Atlas</th>\n",
       "      <td>-1.558013</td>\n",
       "      <td>-0.715097</td>\n",
       "      <td>-0.361548</td>\n",
       "      <td>10</td>\n",
       "    </tr>\n",
       "    <tr>\n",
       "      <th>Mehmet</th>\n",
       "      <td>1.571009</td>\n",
       "      <td>2.114769</td>\n",
       "      <td>0.023610</td>\n",
       "      <td>10</td>\n",
       "    </tr>\n",
       "  </tbody>\n",
       "</table>\n",
       "</div>"
      ],
      "text/plain": [
       "          Salary       Age  Seniority  extra\n",
       "Atil   -2.473798  0.440369  -0.642499     10\n",
       "Zeynep  0.772902 -0.703914   0.535988     10\n",
       "Atlas  -1.558013 -0.715097  -0.361548     10\n",
       "Mehmet  1.571009  2.114769   0.023610     10"
      ]
     },
     "execution_count": 22,
     "metadata": {},
     "output_type": "execute_result"
    }
   ],
   "source": [
    "new_df"
   ]
  },
  {
   "cell_type": "code",
   "execution_count": 26,
   "id": "0860e969-938b-481a-aa6d-b0e0a44615f9",
   "metadata": {},
   "outputs": [
    {
     "data": {
      "text/html": [
       "<div>\n",
       "<style scoped>\n",
       "    .dataframe tbody tr th:only-of-type {\n",
       "        vertical-align: middle;\n",
       "    }\n",
       "\n",
       "    .dataframe tbody tr th {\n",
       "        vertical-align: top;\n",
       "    }\n",
       "\n",
       "    .dataframe thead th {\n",
       "        text-align: right;\n",
       "    }\n",
       "</style>\n",
       "<table border=\"1\" class=\"dataframe\">\n",
       "  <thead>\n",
       "    <tr style=\"text-align: right;\">\n",
       "      <th></th>\n",
       "      <th>Salary</th>\n",
       "      <th>Age</th>\n",
       "      <th>Seniority</th>\n",
       "    </tr>\n",
       "  </thead>\n",
       "  <tbody>\n",
       "    <tr>\n",
       "      <th>Atil</th>\n",
       "      <td>-2.473798</td>\n",
       "      <td>0.440369</td>\n",
       "      <td>-0.642499</td>\n",
       "    </tr>\n",
       "    <tr>\n",
       "      <th>Zeynep</th>\n",
       "      <td>0.772902</td>\n",
       "      <td>-0.703914</td>\n",
       "      <td>0.535988</td>\n",
       "    </tr>\n",
       "    <tr>\n",
       "      <th>Atlas</th>\n",
       "      <td>-1.558013</td>\n",
       "      <td>-0.715097</td>\n",
       "      <td>-0.361548</td>\n",
       "    </tr>\n",
       "    <tr>\n",
       "      <th>Mehmet</th>\n",
       "      <td>1.571009</td>\n",
       "      <td>2.114769</td>\n",
       "      <td>0.023610</td>\n",
       "    </tr>\n",
       "  </tbody>\n",
       "</table>\n",
       "</div>"
      ],
      "text/plain": [
       "          Salary       Age  Seniority\n",
       "Atil   -2.473798  0.440369  -0.642499\n",
       "Zeynep  0.772902 -0.703914   0.535988\n",
       "Atlas  -1.558013 -0.715097  -0.361548\n",
       "Mehmet  1.571009  2.114769   0.023610"
      ]
     },
     "execution_count": 26,
     "metadata": {},
     "output_type": "execute_result"
    }
   ],
   "source": [
    "new_df.drop(\"extra\",axis = 1)"
   ]
  },
  {
   "cell_type": "code",
   "execution_count": 27,
   "id": "e96efc4f-b536-4389-830e-238a692d2db4",
   "metadata": {},
   "outputs": [],
   "source": [
    "#axis 1 belirtmek şudur, 1 sütunlar (columnlar) 0 ise rowlardır."
   ]
  },
  {
   "cell_type": "code",
   "execution_count": 29,
   "id": "90e2e3f7-53f7-47b7-9e3d-22091ca1323d",
   "metadata": {},
   "outputs": [],
   "source": [
    "#extra diye row olursa onu da sşilmesin sadece columnları da silsin diye dedik"
   ]
  },
  {
   "cell_type": "code",
   "execution_count": 30,
   "id": "3a13edc7-2f01-4df8-88a9-6732fd297bc7",
   "metadata": {},
   "outputs": [],
   "source": [
    "#new_df değişmeis için new_df = new_df.drop(\"extra\",axis = 1) yapabişiriz"
   ]
  },
  {
   "cell_type": "code",
   "execution_count": 31,
   "id": "9ee19cdd-762c-4d30-bf0c-46772d75f0fb",
   "metadata": {},
   "outputs": [],
   "source": [
    "#ya da "
   ]
  },
  {
   "cell_type": "code",
   "execution_count": 33,
   "id": "67cc8676-ad50-4350-aca2-1c6c3a0399be",
   "metadata": {},
   "outputs": [],
   "source": [
    "new_df.drop(\"extra\", axis=1, inplace=True)\n",
    "#inplace gercekten bunu icinde yap demektir"
   ]
  },
  {
   "cell_type": "code",
   "execution_count": 34,
   "id": "9303358d-5932-4b62-9abd-a1b0d03b3c68",
   "metadata": {},
   "outputs": [
    {
     "data": {
      "text/html": [
       "<div>\n",
       "<style scoped>\n",
       "    .dataframe tbody tr th:only-of-type {\n",
       "        vertical-align: middle;\n",
       "    }\n",
       "\n",
       "    .dataframe tbody tr th {\n",
       "        vertical-align: top;\n",
       "    }\n",
       "\n",
       "    .dataframe thead th {\n",
       "        text-align: right;\n",
       "    }\n",
       "</style>\n",
       "<table border=\"1\" class=\"dataframe\">\n",
       "  <thead>\n",
       "    <tr style=\"text-align: right;\">\n",
       "      <th></th>\n",
       "      <th>Salary</th>\n",
       "      <th>Age</th>\n",
       "      <th>Seniority</th>\n",
       "    </tr>\n",
       "  </thead>\n",
       "  <tbody>\n",
       "    <tr>\n",
       "      <th>Atil</th>\n",
       "      <td>-2.473798</td>\n",
       "      <td>0.440369</td>\n",
       "      <td>-0.642499</td>\n",
       "    </tr>\n",
       "    <tr>\n",
       "      <th>Zeynep</th>\n",
       "      <td>0.772902</td>\n",
       "      <td>-0.703914</td>\n",
       "      <td>0.535988</td>\n",
       "    </tr>\n",
       "    <tr>\n",
       "      <th>Atlas</th>\n",
       "      <td>-1.558013</td>\n",
       "      <td>-0.715097</td>\n",
       "      <td>-0.361548</td>\n",
       "    </tr>\n",
       "    <tr>\n",
       "      <th>Mehmet</th>\n",
       "      <td>1.571009</td>\n",
       "      <td>2.114769</td>\n",
       "      <td>0.023610</td>\n",
       "    </tr>\n",
       "  </tbody>\n",
       "</table>\n",
       "</div>"
      ],
      "text/plain": [
       "          Salary       Age  Seniority\n",
       "Atil   -2.473798  0.440369  -0.642499\n",
       "Zeynep  0.772902 -0.703914   0.535988\n",
       "Atlas  -1.558013 -0.715097  -0.361548\n",
       "Mehmet  1.571009  2.114769   0.023610"
      ]
     },
     "execution_count": 34,
     "metadata": {},
     "output_type": "execute_result"
    }
   ],
   "source": [
    "new_df"
   ]
  },
  {
   "cell_type": "code",
   "execution_count": 35,
   "id": "3877a939-47ed-4ff2-942d-11db18034ff5",
   "metadata": {},
   "outputs": [
    {
     "data": {
      "text/html": [
       "<div>\n",
       "<style scoped>\n",
       "    .dataframe tbody tr th:only-of-type {\n",
       "        vertical-align: middle;\n",
       "    }\n",
       "\n",
       "    .dataframe tbody tr th {\n",
       "        vertical-align: top;\n",
       "    }\n",
       "\n",
       "    .dataframe thead th {\n",
       "        text-align: right;\n",
       "    }\n",
       "</style>\n",
       "<table border=\"1\" class=\"dataframe\">\n",
       "  <thead>\n",
       "    <tr style=\"text-align: right;\">\n",
       "      <th></th>\n",
       "      <th>Salary</th>\n",
       "      <th>Age</th>\n",
       "      <th>Seniority</th>\n",
       "    </tr>\n",
       "  </thead>\n",
       "  <tbody>\n",
       "    <tr>\n",
       "      <th>Atil</th>\n",
       "      <td>-2.473798</td>\n",
       "      <td>0.440369</td>\n",
       "      <td>-0.642499</td>\n",
       "    </tr>\n",
       "    <tr>\n",
       "      <th>Zeynep</th>\n",
       "      <td>0.772902</td>\n",
       "      <td>-0.703914</td>\n",
       "      <td>0.535988</td>\n",
       "    </tr>\n",
       "    <tr>\n",
       "      <th>Atlas</th>\n",
       "      <td>-1.558013</td>\n",
       "      <td>-0.715097</td>\n",
       "      <td>-0.361548</td>\n",
       "    </tr>\n",
       "  </tbody>\n",
       "</table>\n",
       "</div>"
      ],
      "text/plain": [
       "          Salary       Age  Seniority\n",
       "Atil   -2.473798  0.440369  -0.642499\n",
       "Zeynep  0.772902 -0.703914   0.535988\n",
       "Atlas  -1.558013 -0.715097  -0.361548"
      ]
     },
     "execution_count": 35,
     "metadata": {},
     "output_type": "execute_result"
    }
   ],
   "source": [
    "new_df.drop(\"Mehmet\", axis=0)\n"
   ]
  },
  {
   "cell_type": "code",
   "execution_count": 36,
   "id": "8aa234b2-8ca4-45b4-b0a2-49bc41dc4797",
   "metadata": {},
   "outputs": [
    {
     "data": {
      "text/html": [
       "<div>\n",
       "<style scoped>\n",
       "    .dataframe tbody tr th:only-of-type {\n",
       "        vertical-align: middle;\n",
       "    }\n",
       "\n",
       "    .dataframe tbody tr th {\n",
       "        vertical-align: top;\n",
       "    }\n",
       "\n",
       "    .dataframe thead th {\n",
       "        text-align: right;\n",
       "    }\n",
       "</style>\n",
       "<table border=\"1\" class=\"dataframe\">\n",
       "  <thead>\n",
       "    <tr style=\"text-align: right;\">\n",
       "      <th></th>\n",
       "      <th>Salary</th>\n",
       "      <th>Age</th>\n",
       "      <th>Seniority</th>\n",
       "    </tr>\n",
       "  </thead>\n",
       "  <tbody>\n",
       "    <tr>\n",
       "      <th>Atil</th>\n",
       "      <td>-2.473798</td>\n",
       "      <td>0.440369</td>\n",
       "      <td>-0.642499</td>\n",
       "    </tr>\n",
       "    <tr>\n",
       "      <th>Zeynep</th>\n",
       "      <td>0.772902</td>\n",
       "      <td>-0.703914</td>\n",
       "      <td>0.535988</td>\n",
       "    </tr>\n",
       "    <tr>\n",
       "      <th>Atlas</th>\n",
       "      <td>-1.558013</td>\n",
       "      <td>-0.715097</td>\n",
       "      <td>-0.361548</td>\n",
       "    </tr>\n",
       "    <tr>\n",
       "      <th>Mehmet</th>\n",
       "      <td>1.571009</td>\n",
       "      <td>2.114769</td>\n",
       "      <td>0.023610</td>\n",
       "    </tr>\n",
       "  </tbody>\n",
       "</table>\n",
       "</div>"
      ],
      "text/plain": [
       "          Salary       Age  Seniority\n",
       "Atil   -2.473798  0.440369  -0.642499\n",
       "Zeynep  0.772902 -0.703914   0.535988\n",
       "Atlas  -1.558013 -0.715097  -0.361548\n",
       "Mehmet  1.571009  2.114769   0.023610"
      ]
     },
     "execution_count": 36,
     "metadata": {},
     "output_type": "execute_result"
    }
   ],
   "source": [
    "new_df"
   ]
  },
  {
   "cell_type": "code",
   "execution_count": 37,
   "id": "b3b9d8f6-6c56-415d-9841-6421d354cab8",
   "metadata": {},
   "outputs": [],
   "source": [
    "#axisin default değeri sıfırdır.belirtmezsek rowu siler."
   ]
  },
  {
   "cell_type": "code",
   "execution_count": 38,
   "id": "df1bafb3-6018-48b0-86e8-e4fdc7407950",
   "metadata": {},
   "outputs": [
    {
     "data": {
      "text/plain": [
       "Salary      -1.558013\n",
       "Age         -0.715097\n",
       "Seniority   -0.361548\n",
       "Name: Atlas, dtype: float64"
      ]
     },
     "execution_count": 38,
     "metadata": {},
     "output_type": "execute_result"
    }
   ],
   "source": [
    "new_df.loc[\"Atlas\"]"
   ]
  },
  {
   "cell_type": "code",
   "execution_count": 39,
   "id": "e2abca67-0e83-4b95-9000-7276e645b7dd",
   "metadata": {},
   "outputs": [
    {
     "data": {
      "text/plain": [
       "np.float64(-1.558012667991669)"
      ]
     },
     "execution_count": 39,
     "metadata": {},
     "output_type": "execute_result"
    }
   ],
   "source": [
    "new_df.loc[\"Atlas\"][\"Salary\"]"
   ]
  },
  {
   "cell_type": "code",
   "execution_count": 41,
   "id": "0bdba8f6-870d-4956-90f9-3aea9f6d5a64",
   "metadata": {},
   "outputs": [
    {
     "data": {
      "text/plain": [
       "np.float64(-1.558012667991669)"
      ]
     },
     "execution_count": 41,
     "metadata": {},
     "output_type": "execute_result"
    }
   ],
   "source": [
    "# ya da \n",
    "new_df.loc[\"Atlas\",\"Salary\"]"
   ]
  },
  {
   "cell_type": "code",
   "execution_count": 42,
   "id": "1add7aa4-3edd-45f1-9c13-b98d9201b111",
   "metadata": {},
   "outputs": [
    {
     "data": {
      "text/html": [
       "<div>\n",
       "<style scoped>\n",
       "    .dataframe tbody tr th:only-of-type {\n",
       "        vertical-align: middle;\n",
       "    }\n",
       "\n",
       "    .dataframe tbody tr th {\n",
       "        vertical-align: top;\n",
       "    }\n",
       "\n",
       "    .dataframe thead th {\n",
       "        text-align: right;\n",
       "    }\n",
       "</style>\n",
       "<table border=\"1\" class=\"dataframe\">\n",
       "  <thead>\n",
       "    <tr style=\"text-align: right;\">\n",
       "      <th></th>\n",
       "      <th>Salary</th>\n",
       "      <th>Age</th>\n",
       "      <th>Seniority</th>\n",
       "    </tr>\n",
       "  </thead>\n",
       "  <tbody>\n",
       "    <tr>\n",
       "      <th>Atil</th>\n",
       "      <td>-2.473798</td>\n",
       "      <td>0.440369</td>\n",
       "      <td>-0.642499</td>\n",
       "    </tr>\n",
       "    <tr>\n",
       "      <th>Zeynep</th>\n",
       "      <td>0.772902</td>\n",
       "      <td>-0.703914</td>\n",
       "      <td>0.535988</td>\n",
       "    </tr>\n",
       "    <tr>\n",
       "      <th>Atlas</th>\n",
       "      <td>-1.558013</td>\n",
       "      <td>-0.715097</td>\n",
       "      <td>-0.361548</td>\n",
       "    </tr>\n",
       "    <tr>\n",
       "      <th>Mehmet</th>\n",
       "      <td>1.571009</td>\n",
       "      <td>2.114769</td>\n",
       "      <td>0.023610</td>\n",
       "    </tr>\n",
       "  </tbody>\n",
       "</table>\n",
       "</div>"
      ],
      "text/plain": [
       "          Salary       Age  Seniority\n",
       "Atil   -2.473798  0.440369  -0.642499\n",
       "Zeynep  0.772902 -0.703914   0.535988\n",
       "Atlas  -1.558013 -0.715097  -0.361548\n",
       "Mehmet  1.571009  2.114769   0.023610"
      ]
     },
     "execution_count": 42,
     "metadata": {},
     "output_type": "execute_result"
    }
   ],
   "source": [
    "new_df"
   ]
  },
  {
   "cell_type": "code",
   "execution_count": 44,
   "id": "efa10fa9-eff4-4d1a-82e4-a6e4b6a3a69e",
   "metadata": {},
   "outputs": [],
   "source": [
    "boolean_frame = new_df > 0"
   ]
  },
  {
   "cell_type": "code",
   "execution_count": 45,
   "id": "4f893331-6d09-4d78-a538-88c5a2ca8596",
   "metadata": {},
   "outputs": [
    {
     "data": {
      "text/html": [
       "<div>\n",
       "<style scoped>\n",
       "    .dataframe tbody tr th:only-of-type {\n",
       "        vertical-align: middle;\n",
       "    }\n",
       "\n",
       "    .dataframe tbody tr th {\n",
       "        vertical-align: top;\n",
       "    }\n",
       "\n",
       "    .dataframe thead th {\n",
       "        text-align: right;\n",
       "    }\n",
       "</style>\n",
       "<table border=\"1\" class=\"dataframe\">\n",
       "  <thead>\n",
       "    <tr style=\"text-align: right;\">\n",
       "      <th></th>\n",
       "      <th>Salary</th>\n",
       "      <th>Age</th>\n",
       "      <th>Seniority</th>\n",
       "    </tr>\n",
       "  </thead>\n",
       "  <tbody>\n",
       "    <tr>\n",
       "      <th>Atil</th>\n",
       "      <td>False</td>\n",
       "      <td>True</td>\n",
       "      <td>False</td>\n",
       "    </tr>\n",
       "    <tr>\n",
       "      <th>Zeynep</th>\n",
       "      <td>True</td>\n",
       "      <td>False</td>\n",
       "      <td>True</td>\n",
       "    </tr>\n",
       "    <tr>\n",
       "      <th>Atlas</th>\n",
       "      <td>False</td>\n",
       "      <td>False</td>\n",
       "      <td>False</td>\n",
       "    </tr>\n",
       "    <tr>\n",
       "      <th>Mehmet</th>\n",
       "      <td>True</td>\n",
       "      <td>True</td>\n",
       "      <td>True</td>\n",
       "    </tr>\n",
       "  </tbody>\n",
       "</table>\n",
       "</div>"
      ],
      "text/plain": [
       "        Salary    Age  Seniority\n",
       "Atil     False   True      False\n",
       "Zeynep    True  False       True\n",
       "Atlas    False  False      False\n",
       "Mehmet    True   True       True"
      ]
     },
     "execution_count": 45,
     "metadata": {},
     "output_type": "execute_result"
    }
   ],
   "source": [
    "boolean_frame"
   ]
  },
  {
   "cell_type": "code",
   "execution_count": 46,
   "id": "067dcce4-715f-491d-8035-909376aeae18",
   "metadata": {},
   "outputs": [
    {
     "data": {
      "text/html": [
       "<div>\n",
       "<style scoped>\n",
       "    .dataframe tbody tr th:only-of-type {\n",
       "        vertical-align: middle;\n",
       "    }\n",
       "\n",
       "    .dataframe tbody tr th {\n",
       "        vertical-align: top;\n",
       "    }\n",
       "\n",
       "    .dataframe thead th {\n",
       "        text-align: right;\n",
       "    }\n",
       "</style>\n",
       "<table border=\"1\" class=\"dataframe\">\n",
       "  <thead>\n",
       "    <tr style=\"text-align: right;\">\n",
       "      <th></th>\n",
       "      <th>Salary</th>\n",
       "      <th>Age</th>\n",
       "      <th>Seniority</th>\n",
       "    </tr>\n",
       "  </thead>\n",
       "  <tbody>\n",
       "    <tr>\n",
       "      <th>Atil</th>\n",
       "      <td>NaN</td>\n",
       "      <td>0.440369</td>\n",
       "      <td>NaN</td>\n",
       "    </tr>\n",
       "    <tr>\n",
       "      <th>Zeynep</th>\n",
       "      <td>0.772902</td>\n",
       "      <td>NaN</td>\n",
       "      <td>0.535988</td>\n",
       "    </tr>\n",
       "    <tr>\n",
       "      <th>Atlas</th>\n",
       "      <td>NaN</td>\n",
       "      <td>NaN</td>\n",
       "      <td>NaN</td>\n",
       "    </tr>\n",
       "    <tr>\n",
       "      <th>Mehmet</th>\n",
       "      <td>1.571009</td>\n",
       "      <td>2.114769</td>\n",
       "      <td>0.023610</td>\n",
       "    </tr>\n",
       "  </tbody>\n",
       "</table>\n",
       "</div>"
      ],
      "text/plain": [
       "          Salary       Age  Seniority\n",
       "Atil         NaN  0.440369        NaN\n",
       "Zeynep  0.772902       NaN   0.535988\n",
       "Atlas        NaN       NaN        NaN\n",
       "Mehmet  1.571009  2.114769   0.023610"
      ]
     },
     "execution_count": 46,
     "metadata": {},
     "output_type": "execute_result"
    }
   ],
   "source": [
    "new_df[boolean_frame]"
   ]
  },
  {
   "cell_type": "code",
   "execution_count": 47,
   "id": "fbc4521e-0860-4e75-bed7-86b302d7fa49",
   "metadata": {},
   "outputs": [
    {
     "data": {
      "text/html": [
       "<div>\n",
       "<style scoped>\n",
       "    .dataframe tbody tr th:only-of-type {\n",
       "        vertical-align: middle;\n",
       "    }\n",
       "\n",
       "    .dataframe tbody tr th {\n",
       "        vertical-align: top;\n",
       "    }\n",
       "\n",
       "    .dataframe thead th {\n",
       "        text-align: right;\n",
       "    }\n",
       "</style>\n",
       "<table border=\"1\" class=\"dataframe\">\n",
       "  <thead>\n",
       "    <tr style=\"text-align: right;\">\n",
       "      <th></th>\n",
       "      <th>Salary</th>\n",
       "      <th>Age</th>\n",
       "      <th>Seniority</th>\n",
       "    </tr>\n",
       "  </thead>\n",
       "  <tbody>\n",
       "    <tr>\n",
       "      <th>Atil</th>\n",
       "      <td>NaN</td>\n",
       "      <td>0.440369</td>\n",
       "      <td>NaN</td>\n",
       "    </tr>\n",
       "    <tr>\n",
       "      <th>Zeynep</th>\n",
       "      <td>0.772902</td>\n",
       "      <td>NaN</td>\n",
       "      <td>0.535988</td>\n",
       "    </tr>\n",
       "    <tr>\n",
       "      <th>Atlas</th>\n",
       "      <td>NaN</td>\n",
       "      <td>NaN</td>\n",
       "      <td>NaN</td>\n",
       "    </tr>\n",
       "    <tr>\n",
       "      <th>Mehmet</th>\n",
       "      <td>1.571009</td>\n",
       "      <td>2.114769</td>\n",
       "      <td>0.023610</td>\n",
       "    </tr>\n",
       "  </tbody>\n",
       "</table>\n",
       "</div>"
      ],
      "text/plain": [
       "          Salary       Age  Seniority\n",
       "Atil         NaN  0.440369        NaN\n",
       "Zeynep  0.772902       NaN   0.535988\n",
       "Atlas        NaN       NaN        NaN\n",
       "Mehmet  1.571009  2.114769   0.023610"
      ]
     },
     "execution_count": 47,
     "metadata": {},
     "output_type": "execute_result"
    }
   ],
   "source": [
    "new_df[new_df > 0]"
   ]
  },
  {
   "cell_type": "code",
   "execution_count": 51,
   "id": "ff16f6e7-1931-4c8b-ae27-5ff2a8170687",
   "metadata": {},
   "outputs": [
    {
     "data": {
      "text/html": [
       "<div>\n",
       "<style scoped>\n",
       "    .dataframe tbody tr th:only-of-type {\n",
       "        vertical-align: middle;\n",
       "    }\n",
       "\n",
       "    .dataframe tbody tr th {\n",
       "        vertical-align: top;\n",
       "    }\n",
       "\n",
       "    .dataframe thead th {\n",
       "        text-align: right;\n",
       "    }\n",
       "</style>\n",
       "<table border=\"1\" class=\"dataframe\">\n",
       "  <thead>\n",
       "    <tr style=\"text-align: right;\">\n",
       "      <th></th>\n",
       "      <th>Salary</th>\n",
       "      <th>Age</th>\n",
       "      <th>Seniority</th>\n",
       "    </tr>\n",
       "  </thead>\n",
       "  <tbody>\n",
       "    <tr>\n",
       "      <th>Mehmet</th>\n",
       "      <td>1.571009</td>\n",
       "      <td>2.114769</td>\n",
       "      <td>0.02361</td>\n",
       "    </tr>\n",
       "  </tbody>\n",
       "</table>\n",
       "</div>"
      ],
      "text/plain": [
       "          Salary       Age  Seniority\n",
       "Mehmet  1.571009  2.114769    0.02361"
      ]
     },
     "execution_count": 51,
     "metadata": {},
     "output_type": "execute_result"
    }
   ],
   "source": [
    "new_df[new_df[\"Salary\"] > 1]"
   ]
  },
  {
   "cell_type": "code",
   "execution_count": 52,
   "id": "3a85e35c-82c3-495c-93ca-32168877393e",
   "metadata": {},
   "outputs": [
    {
     "data": {
      "text/html": [
       "<div>\n",
       "<style scoped>\n",
       "    .dataframe tbody tr th:only-of-type {\n",
       "        vertical-align: middle;\n",
       "    }\n",
       "\n",
       "    .dataframe tbody tr th {\n",
       "        vertical-align: top;\n",
       "    }\n",
       "\n",
       "    .dataframe thead th {\n",
       "        text-align: right;\n",
       "    }\n",
       "</style>\n",
       "<table border=\"1\" class=\"dataframe\">\n",
       "  <thead>\n",
       "    <tr style=\"text-align: right;\">\n",
       "      <th></th>\n",
       "      <th>Salary</th>\n",
       "      <th>Age</th>\n",
       "      <th>Seniority</th>\n",
       "    </tr>\n",
       "  </thead>\n",
       "  <tbody>\n",
       "    <tr>\n",
       "      <th>Mehmet</th>\n",
       "      <td>1.571009</td>\n",
       "      <td>2.114769</td>\n",
       "      <td>0.02361</td>\n",
       "    </tr>\n",
       "  </tbody>\n",
       "</table>\n",
       "</div>"
      ],
      "text/plain": [
       "          Salary       Age  Seniority\n",
       "Mehmet  1.571009  2.114769    0.02361"
      ]
     },
     "execution_count": 52,
     "metadata": {},
     "output_type": "execute_result"
    }
   ],
   "source": [
    "new_df[new_df[\"Age\"] > 0.5]\n"
   ]
  },
  {
   "cell_type": "code",
   "execution_count": 53,
   "id": "7facf6c3-f9d0-4697-81c0-4d4f898c2888",
   "metadata": {},
   "outputs": [
    {
     "data": {
      "text/html": [
       "<div>\n",
       "<style scoped>\n",
       "    .dataframe tbody tr th:only-of-type {\n",
       "        vertical-align: middle;\n",
       "    }\n",
       "\n",
       "    .dataframe tbody tr th {\n",
       "        vertical-align: top;\n",
       "    }\n",
       "\n",
       "    .dataframe thead th {\n",
       "        text-align: right;\n",
       "    }\n",
       "</style>\n",
       "<table border=\"1\" class=\"dataframe\">\n",
       "  <thead>\n",
       "    <tr style=\"text-align: right;\">\n",
       "      <th></th>\n",
       "      <th>Salary</th>\n",
       "      <th>Age</th>\n",
       "      <th>Seniority</th>\n",
       "    </tr>\n",
       "  </thead>\n",
       "  <tbody>\n",
       "    <tr>\n",
       "      <th>Atil</th>\n",
       "      <td>-2.473798</td>\n",
       "      <td>0.440369</td>\n",
       "      <td>-0.642499</td>\n",
       "    </tr>\n",
       "    <tr>\n",
       "      <th>Zeynep</th>\n",
       "      <td>0.772902</td>\n",
       "      <td>-0.703914</td>\n",
       "      <td>0.535988</td>\n",
       "    </tr>\n",
       "    <tr>\n",
       "      <th>Atlas</th>\n",
       "      <td>-1.558013</td>\n",
       "      <td>-0.715097</td>\n",
       "      <td>-0.361548</td>\n",
       "    </tr>\n",
       "    <tr>\n",
       "      <th>Mehmet</th>\n",
       "      <td>1.571009</td>\n",
       "      <td>2.114769</td>\n",
       "      <td>0.023610</td>\n",
       "    </tr>\n",
       "  </tbody>\n",
       "</table>\n",
       "</div>"
      ],
      "text/plain": [
       "          Salary       Age  Seniority\n",
       "Atil   -2.473798  0.440369  -0.642499\n",
       "Zeynep  0.772902 -0.703914   0.535988\n",
       "Atlas  -1.558013 -0.715097  -0.361548\n",
       "Mehmet  1.571009  2.114769   0.023610"
      ]
     },
     "execution_count": 53,
     "metadata": {},
     "output_type": "execute_result"
    }
   ],
   "source": [
    "new_df"
   ]
  },
  {
   "cell_type": "code",
   "execution_count": 54,
   "id": "6d08882d-b68e-4299-ba06-859ea7d21991",
   "metadata": {},
   "outputs": [],
   "source": [
    "##indeks işlemleri"
   ]
  },
  {
   "cell_type": "code",
   "execution_count": 57,
   "id": "3efef5c2-f9e5-4cbf-8eff-6f5763aadfb0",
   "metadata": {},
   "outputs": [
    {
     "data": {
      "text/html": [
       "<div>\n",
       "<style scoped>\n",
       "    .dataframe tbody tr th:only-of-type {\n",
       "        vertical-align: middle;\n",
       "    }\n",
       "\n",
       "    .dataframe tbody tr th {\n",
       "        vertical-align: top;\n",
       "    }\n",
       "\n",
       "    .dataframe thead th {\n",
       "        text-align: right;\n",
       "    }\n",
       "</style>\n",
       "<table border=\"1\" class=\"dataframe\">\n",
       "  <thead>\n",
       "    <tr style=\"text-align: right;\">\n",
       "      <th></th>\n",
       "      <th>index</th>\n",
       "      <th>Salary</th>\n",
       "      <th>Age</th>\n",
       "      <th>Seniority</th>\n",
       "    </tr>\n",
       "  </thead>\n",
       "  <tbody>\n",
       "    <tr>\n",
       "      <th>0</th>\n",
       "      <td>Atil</td>\n",
       "      <td>-2.473798</td>\n",
       "      <td>0.440369</td>\n",
       "      <td>-0.642499</td>\n",
       "    </tr>\n",
       "    <tr>\n",
       "      <th>1</th>\n",
       "      <td>Zeynep</td>\n",
       "      <td>0.772902</td>\n",
       "      <td>-0.703914</td>\n",
       "      <td>0.535988</td>\n",
       "    </tr>\n",
       "    <tr>\n",
       "      <th>2</th>\n",
       "      <td>Atlas</td>\n",
       "      <td>-1.558013</td>\n",
       "      <td>-0.715097</td>\n",
       "      <td>-0.361548</td>\n",
       "    </tr>\n",
       "    <tr>\n",
       "      <th>3</th>\n",
       "      <td>Mehmet</td>\n",
       "      <td>1.571009</td>\n",
       "      <td>2.114769</td>\n",
       "      <td>0.023610</td>\n",
       "    </tr>\n",
       "  </tbody>\n",
       "</table>\n",
       "</div>"
      ],
      "text/plain": [
       "    index    Salary       Age  Seniority\n",
       "0    Atil -2.473798  0.440369  -0.642499\n",
       "1  Zeynep  0.772902 -0.703914   0.535988\n",
       "2   Atlas -1.558013 -0.715097  -0.361548\n",
       "3  Mehmet  1.571009  2.114769   0.023610"
      ]
     },
     "execution_count": 57,
     "metadata": {},
     "output_type": "execute_result"
    }
   ],
   "source": [
    "new_df.reset_index() #bu şekilde indeks diye column açar ama asıl indeksler soldadır"
   ]
  },
  {
   "cell_type": "code",
   "execution_count": 56,
   "id": "15a3b191-4b32-452a-9b3c-2e6d82991c73",
   "metadata": {},
   "outputs": [],
   "source": [
    "new_indices = [\"Ati\", \"Zey\", \"Atl\", \"Meh\"]\n"
   ]
  },
  {
   "cell_type": "code",
   "execution_count": 58,
   "id": "396665ef-220a-4d5b-898c-c81f1eb16cbe",
   "metadata": {},
   "outputs": [],
   "source": [
    "new_df[\"NewIndex\"] = new_indices"
   ]
  },
  {
   "cell_type": "code",
   "execution_count": 59,
   "id": "9430189d-f9df-402b-a7a3-fdce0553d9fd",
   "metadata": {},
   "outputs": [
    {
     "data": {
      "text/html": [
       "<div>\n",
       "<style scoped>\n",
       "    .dataframe tbody tr th:only-of-type {\n",
       "        vertical-align: middle;\n",
       "    }\n",
       "\n",
       "    .dataframe tbody tr th {\n",
       "        vertical-align: top;\n",
       "    }\n",
       "\n",
       "    .dataframe thead th {\n",
       "        text-align: right;\n",
       "    }\n",
       "</style>\n",
       "<table border=\"1\" class=\"dataframe\">\n",
       "  <thead>\n",
       "    <tr style=\"text-align: right;\">\n",
       "      <th></th>\n",
       "      <th>Salary</th>\n",
       "      <th>Age</th>\n",
       "      <th>Seniority</th>\n",
       "      <th>NewIndex</th>\n",
       "    </tr>\n",
       "  </thead>\n",
       "  <tbody>\n",
       "    <tr>\n",
       "      <th>Atil</th>\n",
       "      <td>-2.473798</td>\n",
       "      <td>0.440369</td>\n",
       "      <td>-0.642499</td>\n",
       "      <td>Ati</td>\n",
       "    </tr>\n",
       "    <tr>\n",
       "      <th>Zeynep</th>\n",
       "      <td>0.772902</td>\n",
       "      <td>-0.703914</td>\n",
       "      <td>0.535988</td>\n",
       "      <td>Zey</td>\n",
       "    </tr>\n",
       "    <tr>\n",
       "      <th>Atlas</th>\n",
       "      <td>-1.558013</td>\n",
       "      <td>-0.715097</td>\n",
       "      <td>-0.361548</td>\n",
       "      <td>Atl</td>\n",
       "    </tr>\n",
       "    <tr>\n",
       "      <th>Mehmet</th>\n",
       "      <td>1.571009</td>\n",
       "      <td>2.114769</td>\n",
       "      <td>0.023610</td>\n",
       "      <td>Meh</td>\n",
       "    </tr>\n",
       "  </tbody>\n",
       "</table>\n",
       "</div>"
      ],
      "text/plain": [
       "          Salary       Age  Seniority NewIndex\n",
       "Atil   -2.473798  0.440369  -0.642499      Ati\n",
       "Zeynep  0.772902 -0.703914   0.535988      Zey\n",
       "Atlas  -1.558013 -0.715097  -0.361548      Atl\n",
       "Mehmet  1.571009  2.114769   0.023610      Meh"
      ]
     },
     "execution_count": 59,
     "metadata": {},
     "output_type": "execute_result"
    }
   ],
   "source": [
    "new_df"
   ]
  },
  {
   "cell_type": "code",
   "execution_count": 60,
   "id": "7de43fa5-dfb0-4f28-85c2-20e2344c0cf2",
   "metadata": {},
   "outputs": [],
   "source": [
    "#ama değiştirmemiş resetleyince tabi\n",
    "reset_frame = new_df.reset_index()"
   ]
  },
  {
   "cell_type": "code",
   "execution_count": 62,
   "id": "2dbbfaa1-3562-4c2b-a101-504575d8403c",
   "metadata": {},
   "outputs": [
    {
     "data": {
      "text/html": [
       "<div>\n",
       "<style scoped>\n",
       "    .dataframe tbody tr th:only-of-type {\n",
       "        vertical-align: middle;\n",
       "    }\n",
       "\n",
       "    .dataframe tbody tr th {\n",
       "        vertical-align: top;\n",
       "    }\n",
       "\n",
       "    .dataframe thead th {\n",
       "        text-align: right;\n",
       "    }\n",
       "</style>\n",
       "<table border=\"1\" class=\"dataframe\">\n",
       "  <thead>\n",
       "    <tr style=\"text-align: right;\">\n",
       "      <th></th>\n",
       "      <th>index</th>\n",
       "      <th>Salary</th>\n",
       "      <th>Age</th>\n",
       "      <th>Seniority</th>\n",
       "      <th>NewIndex</th>\n",
       "    </tr>\n",
       "  </thead>\n",
       "  <tbody>\n",
       "    <tr>\n",
       "      <th>0</th>\n",
       "      <td>Atil</td>\n",
       "      <td>-2.473798</td>\n",
       "      <td>0.440369</td>\n",
       "      <td>-0.642499</td>\n",
       "      <td>Ati</td>\n",
       "    </tr>\n",
       "    <tr>\n",
       "      <th>1</th>\n",
       "      <td>Zeynep</td>\n",
       "      <td>0.772902</td>\n",
       "      <td>-0.703914</td>\n",
       "      <td>0.535988</td>\n",
       "      <td>Zey</td>\n",
       "    </tr>\n",
       "    <tr>\n",
       "      <th>2</th>\n",
       "      <td>Atlas</td>\n",
       "      <td>-1.558013</td>\n",
       "      <td>-0.715097</td>\n",
       "      <td>-0.361548</td>\n",
       "      <td>Atl</td>\n",
       "    </tr>\n",
       "    <tr>\n",
       "      <th>3</th>\n",
       "      <td>Mehmet</td>\n",
       "      <td>1.571009</td>\n",
       "      <td>2.114769</td>\n",
       "      <td>0.023610</td>\n",
       "      <td>Meh</td>\n",
       "    </tr>\n",
       "  </tbody>\n",
       "</table>\n",
       "</div>"
      ],
      "text/plain": [
       "    index    Salary       Age  Seniority NewIndex\n",
       "0    Atil -2.473798  0.440369  -0.642499      Ati\n",
       "1  Zeynep  0.772902 -0.703914   0.535988      Zey\n",
       "2   Atlas -1.558013 -0.715097  -0.361548      Atl\n",
       "3  Mehmet  1.571009  2.114769   0.023610      Meh"
      ]
     },
     "execution_count": 62,
     "metadata": {},
     "output_type": "execute_result"
    }
   ],
   "source": [
    "reset_frame"
   ]
  },
  {
   "cell_type": "code",
   "execution_count": 66,
   "id": "33e60702-55ee-4d6f-879d-3d6f091b8826",
   "metadata": {},
   "outputs": [],
   "source": [
    "new_df.set_index(\"NewIndex\",inplace = True)"
   ]
  },
  {
   "cell_type": "code",
   "execution_count": 67,
   "id": "f83661ed-f693-4f03-ab17-06d6ff5c07dc",
   "metadata": {},
   "outputs": [
    {
     "data": {
      "text/html": [
       "<div>\n",
       "<style scoped>\n",
       "    .dataframe tbody tr th:only-of-type {\n",
       "        vertical-align: middle;\n",
       "    }\n",
       "\n",
       "    .dataframe tbody tr th {\n",
       "        vertical-align: top;\n",
       "    }\n",
       "\n",
       "    .dataframe thead th {\n",
       "        text-align: right;\n",
       "    }\n",
       "</style>\n",
       "<table border=\"1\" class=\"dataframe\">\n",
       "  <thead>\n",
       "    <tr style=\"text-align: right;\">\n",
       "      <th></th>\n",
       "      <th>Salary</th>\n",
       "      <th>Age</th>\n",
       "      <th>Seniority</th>\n",
       "    </tr>\n",
       "    <tr>\n",
       "      <th>NewIndex</th>\n",
       "      <th></th>\n",
       "      <th></th>\n",
       "      <th></th>\n",
       "    </tr>\n",
       "  </thead>\n",
       "  <tbody>\n",
       "    <tr>\n",
       "      <th>Ati</th>\n",
       "      <td>-2.473798</td>\n",
       "      <td>0.440369</td>\n",
       "      <td>-0.642499</td>\n",
       "    </tr>\n",
       "    <tr>\n",
       "      <th>Zey</th>\n",
       "      <td>0.772902</td>\n",
       "      <td>-0.703914</td>\n",
       "      <td>0.535988</td>\n",
       "    </tr>\n",
       "    <tr>\n",
       "      <th>Atl</th>\n",
       "      <td>-1.558013</td>\n",
       "      <td>-0.715097</td>\n",
       "      <td>-0.361548</td>\n",
       "    </tr>\n",
       "    <tr>\n",
       "      <th>Meh</th>\n",
       "      <td>1.571009</td>\n",
       "      <td>2.114769</td>\n",
       "      <td>0.023610</td>\n",
       "    </tr>\n",
       "  </tbody>\n",
       "</table>\n",
       "</div>"
      ],
      "text/plain": [
       "            Salary       Age  Seniority\n",
       "NewIndex                               \n",
       "Ati      -2.473798  0.440369  -0.642499\n",
       "Zey       0.772902 -0.703914   0.535988\n",
       "Atl      -1.558013 -0.715097  -0.361548\n",
       "Meh       1.571009  2.114769   0.023610"
      ]
     },
     "execution_count": 67,
     "metadata": {},
     "output_type": "execute_result"
    }
   ],
   "source": [
    "new_df"
   ]
  },
  {
   "cell_type": "code",
   "execution_count": 68,
   "id": "82e6f5fe-e588-45a4-bcc8-6ecc365e5296",
   "metadata": {},
   "outputs": [
    {
     "data": {
      "text/plain": [
       "Salary      -2.473798\n",
       "Age          0.440369\n",
       "Seniority   -0.642499\n",
       "Name: Ati, dtype: float64"
      ]
     },
     "execution_count": 68,
     "metadata": {},
     "output_type": "execute_result"
    }
   ],
   "source": [
    "new_df.loc[\"Ati\"]"
   ]
  },
  {
   "cell_type": "code",
   "execution_count": 70,
   "id": "52fc8d4d-e2b4-4351-87eb-af01aa5df949",
   "metadata": {},
   "outputs": [],
   "source": [
    "#multi index"
   ]
  },
  {
   "cell_type": "code",
   "execution_count": 71,
   "id": "d9bc5c93-99d7-4711-b5a2-3b81274b84b2",
   "metadata": {},
   "outputs": [],
   "source": [
    "first_index = [\"Simpson\",\"Simpson\",\"Simpson\",\"South Park\", \"South Park\", \"South Park\"]\n"
   ]
  },
  {
   "cell_type": "code",
   "execution_count": 72,
   "id": "9460a1e2-0eef-4b31-b08a-690543631ad1",
   "metadata": {},
   "outputs": [],
   "source": [
    "inner_index = [\"Homer\",\"Bart\",\"Marge\",\"Cartman\",\"Kenny\",\"Kyle\"]\n"
   ]
  },
  {
   "cell_type": "code",
   "execution_count": 73,
   "id": "ef1e4cc8-c076-4e80-80cb-19bfc277c5cb",
   "metadata": {},
   "outputs": [],
   "source": [
    "zipped_index = list(zip(first_index,inner_index))"
   ]
  },
  {
   "cell_type": "code",
   "execution_count": 74,
   "id": "ddda42e9-69cf-4159-947b-d64851b04be9",
   "metadata": {},
   "outputs": [
    {
     "data": {
      "text/plain": [
       "[('Simpson', 'Homer'),\n",
       " ('Simpson', 'Bart'),\n",
       " ('Simpson', 'Marge'),\n",
       " ('South Park', 'Cartman'),\n",
       " ('South Park', 'Kenny'),\n",
       " ('South Park', 'Kyle')]"
      ]
     },
     "execution_count": 74,
     "metadata": {},
     "output_type": "execute_result"
    }
   ],
   "source": [
    "zipped_index"
   ]
  },
  {
   "cell_type": "code",
   "execution_count": 75,
   "id": "cc05204b-3a85-4fec-83a9-1f06b2ba8e44",
   "metadata": {},
   "outputs": [],
   "source": [
    "zipped_index = pd.MultiIndex.from_tuples(zipped_index)"
   ]
  },
  {
   "cell_type": "code",
   "execution_count": 76,
   "id": "dc0f9c60-4493-475f-aa30-e061ae67b7fe",
   "metadata": {},
   "outputs": [
    {
     "data": {
      "text/plain": [
       "MultiIndex([(   'Simpson',   'Homer'),\n",
       "            (   'Simpson',    'Bart'),\n",
       "            (   'Simpson',   'Marge'),\n",
       "            ('South Park', 'Cartman'),\n",
       "            ('South Park',   'Kenny'),\n",
       "            ('South Park',    'Kyle')],\n",
       "           )"
      ]
     },
     "execution_count": 76,
     "metadata": {},
     "output_type": "execute_result"
    }
   ],
   "source": [
    "zipped_index"
   ]
  },
  {
   "cell_type": "code",
   "execution_count": 77,
   "id": "af7c5ad6-7ef7-4747-8cf6-daf114e8eb7f",
   "metadata": {},
   "outputs": [],
   "source": [
    "sample_values = np.ones((6,2))"
   ]
  },
  {
   "cell_type": "code",
   "execution_count": 78,
   "id": "2e8e6cc9-81a4-4255-8e67-33eac3ccc438",
   "metadata": {},
   "outputs": [
    {
     "data": {
      "text/plain": [
       "array([[1., 1.],\n",
       "       [1., 1.],\n",
       "       [1., 1.],\n",
       "       [1., 1.],\n",
       "       [1., 1.],\n",
       "       [1., 1.]])"
      ]
     },
     "execution_count": 78,
     "metadata": {},
     "output_type": "execute_result"
    }
   ],
   "source": [
    "sample_values"
   ]
  },
  {
   "cell_type": "code",
   "execution_count": 79,
   "id": "f8dab3c2-592a-4a63-9c43-da5d2d29c757",
   "metadata": {},
   "outputs": [],
   "source": [
    "big_df = pd.DataFrame(data = sample_values, index=zipped_index, columns=[\"Age\", \"Salary\"])\n"
   ]
  },
  {
   "cell_type": "code",
   "execution_count": 80,
   "id": "54770c4d-7a8b-4cc3-ab9e-495023a8282c",
   "metadata": {},
   "outputs": [
    {
     "data": {
      "text/html": [
       "<div>\n",
       "<style scoped>\n",
       "    .dataframe tbody tr th:only-of-type {\n",
       "        vertical-align: middle;\n",
       "    }\n",
       "\n",
       "    .dataframe tbody tr th {\n",
       "        vertical-align: top;\n",
       "    }\n",
       "\n",
       "    .dataframe thead th {\n",
       "        text-align: right;\n",
       "    }\n",
       "</style>\n",
       "<table border=\"1\" class=\"dataframe\">\n",
       "  <thead>\n",
       "    <tr style=\"text-align: right;\">\n",
       "      <th></th>\n",
       "      <th></th>\n",
       "      <th>Age</th>\n",
       "      <th>Salary</th>\n",
       "    </tr>\n",
       "  </thead>\n",
       "  <tbody>\n",
       "    <tr>\n",
       "      <th rowspan=\"3\" valign=\"top\">Simpson</th>\n",
       "      <th>Homer</th>\n",
       "      <td>1.0</td>\n",
       "      <td>1.0</td>\n",
       "    </tr>\n",
       "    <tr>\n",
       "      <th>Bart</th>\n",
       "      <td>1.0</td>\n",
       "      <td>1.0</td>\n",
       "    </tr>\n",
       "    <tr>\n",
       "      <th>Marge</th>\n",
       "      <td>1.0</td>\n",
       "      <td>1.0</td>\n",
       "    </tr>\n",
       "    <tr>\n",
       "      <th rowspan=\"3\" valign=\"top\">South Park</th>\n",
       "      <th>Cartman</th>\n",
       "      <td>1.0</td>\n",
       "      <td>1.0</td>\n",
       "    </tr>\n",
       "    <tr>\n",
       "      <th>Kenny</th>\n",
       "      <td>1.0</td>\n",
       "      <td>1.0</td>\n",
       "    </tr>\n",
       "    <tr>\n",
       "      <th>Kyle</th>\n",
       "      <td>1.0</td>\n",
       "      <td>1.0</td>\n",
       "    </tr>\n",
       "  </tbody>\n",
       "</table>\n",
       "</div>"
      ],
      "text/plain": [
       "                    Age  Salary\n",
       "Simpson    Homer    1.0     1.0\n",
       "           Bart     1.0     1.0\n",
       "           Marge    1.0     1.0\n",
       "South Park Cartman  1.0     1.0\n",
       "           Kenny    1.0     1.0\n",
       "           Kyle     1.0     1.0"
      ]
     },
     "execution_count": 80,
     "metadata": {},
     "output_type": "execute_result"
    }
   ],
   "source": [
    "big_df"
   ]
  },
  {
   "cell_type": "code",
   "execution_count": 81,
   "id": "45f5b086-a343-4dff-b995-40ed52f2dbb1",
   "metadata": {},
   "outputs": [
    {
     "data": {
      "text/plain": [
       "Simpson     Homer      1.0\n",
       "            Bart       1.0\n",
       "            Marge      1.0\n",
       "South Park  Cartman    1.0\n",
       "            Kenny      1.0\n",
       "            Kyle       1.0\n",
       "Name: Age, dtype: float64"
      ]
     },
     "execution_count": 81,
     "metadata": {},
     "output_type": "execute_result"
    }
   ],
   "source": [
    "big_df[\"Age\"]"
   ]
  },
  {
   "cell_type": "code",
   "execution_count": 82,
   "id": "a005073c-cb1e-4650-a69f-42f8059e8ea8",
   "metadata": {},
   "outputs": [
    {
     "data": {
      "text/html": [
       "<div>\n",
       "<style scoped>\n",
       "    .dataframe tbody tr th:only-of-type {\n",
       "        vertical-align: middle;\n",
       "    }\n",
       "\n",
       "    .dataframe tbody tr th {\n",
       "        vertical-align: top;\n",
       "    }\n",
       "\n",
       "    .dataframe thead th {\n",
       "        text-align: right;\n",
       "    }\n",
       "</style>\n",
       "<table border=\"1\" class=\"dataframe\">\n",
       "  <thead>\n",
       "    <tr style=\"text-align: right;\">\n",
       "      <th></th>\n",
       "      <th>Age</th>\n",
       "      <th>Salary</th>\n",
       "    </tr>\n",
       "  </thead>\n",
       "  <tbody>\n",
       "    <tr>\n",
       "      <th>Homer</th>\n",
       "      <td>1.0</td>\n",
       "      <td>1.0</td>\n",
       "    </tr>\n",
       "    <tr>\n",
       "      <th>Bart</th>\n",
       "      <td>1.0</td>\n",
       "      <td>1.0</td>\n",
       "    </tr>\n",
       "    <tr>\n",
       "      <th>Marge</th>\n",
       "      <td>1.0</td>\n",
       "      <td>1.0</td>\n",
       "    </tr>\n",
       "  </tbody>\n",
       "</table>\n",
       "</div>"
      ],
      "text/plain": [
       "       Age  Salary\n",
       "Homer  1.0     1.0\n",
       "Bart   1.0     1.0\n",
       "Marge  1.0     1.0"
      ]
     },
     "execution_count": 82,
     "metadata": {},
     "output_type": "execute_result"
    }
   ],
   "source": [
    "big_df.loc[\"Simpson\"]"
   ]
  },
  {
   "cell_type": "code",
   "execution_count": 83,
   "id": "0eed3260-dffb-44c1-b6ae-466e45a58d9c",
   "metadata": {},
   "outputs": [
    {
     "data": {
      "text/plain": [
       "Age       1.0\n",
       "Salary    1.0\n",
       "Name: Homer, dtype: float64"
      ]
     },
     "execution_count": 83,
     "metadata": {},
     "output_type": "execute_result"
    }
   ],
   "source": [
    "big_df.loc[\"Simpson\"].loc[\"Homer\"]\n"
   ]
  },
  {
   "cell_type": "code",
   "execution_count": null,
   "id": "7f21a45f-eb78-4eaf-ba88-4c8ee0ed2b1b",
   "metadata": {},
   "outputs": [],
   "source": []
  }
 ],
 "metadata": {
  "kernelspec": {
   "display_name": "Python [conda env:base] *",
   "language": "python",
   "name": "conda-base-py"
  },
  "language_info": {
   "codemirror_mode": {
    "name": "ipython",
    "version": 3
   },
   "file_extension": ".py",
   "mimetype": "text/x-python",
   "name": "python",
   "nbconvert_exporter": "python",
   "pygments_lexer": "ipython3",
   "version": "3.13.5"
  }
 },
 "nbformat": 4,
 "nbformat_minor": 5
}
