{
 "cells": [
  {
   "cell_type": "code",
   "execution_count": 1,
   "id": "1891425d-f360-4126-b12f-c6edb253feef",
   "metadata": {},
   "outputs": [],
   "source": [
    "import numpy as np"
   ]
  },
  {
   "cell_type": "code",
   "execution_count": 2,
   "id": "811a2130-1c6e-42ba-9323-0d152e70e606",
   "metadata": {},
   "outputs": [
    {
     "name": "stdout",
     "output_type": "stream",
     "text": [
      "Requirement already satisfied: numpy in /opt/anaconda3/lib/python3.13/site-packages (2.1.3)\n"
     ]
    }
   ],
   "source": [
    "!pip install numpy"
   ]
  },
  {
   "cell_type": "code",
   "execution_count": 3,
   "id": "e609d895-8bdf-4f56-9166-8fd586846e25",
   "metadata": {},
   "outputs": [],
   "source": [
    "#https://jalammar.github.io/visual-numpy/"
   ]
  },
  {
   "cell_type": "code",
   "execution_count": 4,
   "id": "ad7e2065-7a2f-4084-aa55-d8b1fc91c2af",
   "metadata": {},
   "outputs": [],
   "source": [
    "my_list = [10,20,30,40]"
   ]
  },
  {
   "cell_type": "code",
   "execution_count": 5,
   "id": "ac850a34-eaa2-4d26-97da-56465ad5f906",
   "metadata": {},
   "outputs": [
    {
     "data": {
      "text/plain": [
       "list"
      ]
     },
     "execution_count": 5,
     "metadata": {},
     "output_type": "execute_result"
    }
   ],
   "source": [
    "type(my_list)"
   ]
  },
  {
   "cell_type": "code",
   "execution_count": 6,
   "id": "d7aa9b5d-2375-4f15-befb-b69aef2eb45b",
   "metadata": {},
   "outputs": [
    {
     "data": {
      "text/plain": [
       "array([10, 20, 30, 40])"
      ]
     },
     "execution_count": 6,
     "metadata": {},
     "output_type": "execute_result"
    }
   ],
   "source": [
    "np.array(my_list)"
   ]
  },
  {
   "cell_type": "code",
   "execution_count": 7,
   "id": "a21bb43a-4604-4a19-b03b-c7651e86d2e3",
   "metadata": {},
   "outputs": [],
   "source": [
    "my_numpy_array = np.array(my_list)"
   ]
  },
  {
   "cell_type": "code",
   "execution_count": 8,
   "id": "3b68690c-6bb2-41df-8fe0-9b1c2a82137c",
   "metadata": {},
   "outputs": [
    {
     "data": {
      "text/plain": [
       "numpy.ndarray"
      ]
     },
     "execution_count": 8,
     "metadata": {},
     "output_type": "execute_result"
    }
   ],
   "source": [
    "type(my_numpy_array)"
   ]
  },
  {
   "cell_type": "code",
   "execution_count": 9,
   "id": "d397e61f-6ae7-407a-9f2a-22db52b6ceb1",
   "metadata": {},
   "outputs": [
    {
     "data": {
      "text/plain": [
       "np.int64(40)"
      ]
     },
     "execution_count": 9,
     "metadata": {},
     "output_type": "execute_result"
    }
   ],
   "source": [
    "my_numpy_array.max()"
   ]
  },
  {
   "cell_type": "code",
   "execution_count": 10,
   "id": "660bd1d0-94b9-4c4b-bb95-3bdaf9a9848e",
   "metadata": {},
   "outputs": [
    {
     "data": {
      "text/plain": [
       "array([0., 0., 0., 0., 0.])"
      ]
     },
     "execution_count": 10,
     "metadata": {},
     "output_type": "execute_result"
    }
   ],
   "source": [
    "np.zeros(5)"
   ]
  },
  {
   "cell_type": "code",
   "execution_count": 11,
   "id": "6df58fde-2fdf-466d-af4a-c0d33ee8157a",
   "metadata": {},
   "outputs": [],
   "source": [
    " ##array arithmetic "
   ]
  },
  {
   "cell_type": "code",
   "execution_count": 12,
   "id": "3e5e510e-619f-42ec-838d-152c8cc140cd",
   "metadata": {},
   "outputs": [],
   "source": [
    "my_list1 = [1,2]"
   ]
  },
  {
   "cell_type": "code",
   "execution_count": 19,
   "id": "f0a39dd2-e82a-4de2-8f76-0bd0b1718325",
   "metadata": {},
   "outputs": [],
   "source": [
    "my_list2 = [2,3]"
   ]
  },
  {
   "cell_type": "code",
   "execution_count": 20,
   "id": "0a01aabe-e4e9-43bb-8b75-02a285f334fa",
   "metadata": {},
   "outputs": [
    {
     "data": {
      "text/plain": [
       "[1, 2, 2, 3]"
      ]
     },
     "execution_count": 20,
     "metadata": {},
     "output_type": "execute_result"
    }
   ],
   "source": [
    "my_list1 + my_list2"
   ]
  },
  {
   "cell_type": "code",
   "execution_count": 21,
   "id": "b39732dd-9c71-4985-95bb-406f0df34ac0",
   "metadata": {},
   "outputs": [],
   "source": [
    "my_numpy_array1 = np.array(my_list1)"
   ]
  },
  {
   "cell_type": "code",
   "execution_count": 22,
   "id": "20d58b30-b3d8-4401-a76f-f94753e3340a",
   "metadata": {},
   "outputs": [],
   "source": [
    "my_numpy_array2 = np.array(my_list2)"
   ]
  },
  {
   "cell_type": "code",
   "execution_count": 23,
   "id": "3c99c736-c863-4293-bc82-965f860b802e",
   "metadata": {},
   "outputs": [
    {
     "data": {
      "text/plain": [
       "array([3, 5])"
      ]
     },
     "execution_count": 23,
     "metadata": {},
     "output_type": "execute_result"
    }
   ],
   "source": [
    "my_numpy_array1 + my_numpy_array2"
   ]
  },
  {
   "cell_type": "code",
   "execution_count": 24,
   "id": "dfc25685-bbda-440d-992b-a760fd1712db",
   "metadata": {},
   "outputs": [
    {
     "data": {
      "text/plain": [
       "array([2, 6])"
      ]
     },
     "execution_count": 24,
     "metadata": {},
     "output_type": "execute_result"
    }
   ],
   "source": [
    "my_numpy_array1 * my_numpy_array2"
   ]
  },
  {
   "cell_type": "code",
   "execution_count": 25,
   "id": "08b538f4-33e8-41b6-8c7c-61e4ba537cdf",
   "metadata": {},
   "outputs": [
    {
     "data": {
      "text/plain": [
       "array([ 5, 10])"
      ]
     },
     "execution_count": 25,
     "metadata": {},
     "output_type": "execute_result"
    }
   ],
   "source": [
    "my_numpy_array1 *5"
   ]
  },
  {
   "cell_type": "code",
   "execution_count": 26,
   "id": "18cc2075-9e01-4c68-901d-06d828473b21",
   "metadata": {},
   "outputs": [
    {
     "data": {
      "text/plain": [
       "[1, 2, 1, 2, 1, 2, 1, 2, 1, 2]"
      ]
     },
     "execution_count": 26,
     "metadata": {},
     "output_type": "execute_result"
    }
   ],
   "source": [
    "my_list1*5"
   ]
  },
  {
   "cell_type": "code",
   "execution_count": 27,
   "id": "74775557-25f4-4b84-8bc0-f9d0644ae869",
   "metadata": {},
   "outputs": [],
   "source": [
    "other_array = np.array([10,20,30,40,50])"
   ]
  },
  {
   "cell_type": "code",
   "execution_count": 28,
   "id": "b524125e-948d-4046-ae7d-08c1afa45918",
   "metadata": {},
   "outputs": [
    {
     "data": {
      "text/plain": [
       "np.int64(150)"
      ]
     },
     "execution_count": 28,
     "metadata": {},
     "output_type": "execute_result"
    }
   ],
   "source": [
    "other_array.sum()"
   ]
  },
  {
   "cell_type": "code",
   "execution_count": 29,
   "id": "4f6e7bf5-6cad-496b-b745-64e46985f5b8",
   "metadata": {},
   "outputs": [
    {
     "data": {
      "text/plain": [
       "array([1, 2])"
      ]
     },
     "execution_count": 29,
     "metadata": {},
     "output_type": "execute_result"
    }
   ],
   "source": [
    "my_numpy_array1"
   ]
  },
  {
   "cell_type": "code",
   "execution_count": 30,
   "id": "de73af80-d22b-4858-a3d2-5416dc0c4288",
   "metadata": {},
   "outputs": [
    {
     "data": {
      "text/plain": [
       "array([10, 20, 30, 40, 50])"
      ]
     },
     "execution_count": 30,
     "metadata": {},
     "output_type": "execute_result"
    }
   ],
   "source": [
    "other_array"
   ]
  },
  {
   "cell_type": "code",
   "execution_count": 31,
   "id": "bbcb9ff2-5472-48d4-871c-b189fd053227",
   "metadata": {},
   "outputs": [],
   "source": [
    "##indekslere bakacağız"
   ]
  },
  {
   "cell_type": "code",
   "execution_count": 32,
   "id": "33b686d5-3c6e-4428-9b6c-93122ab1ea57",
   "metadata": {},
   "outputs": [],
   "source": [
    "#arange & indexing"
   ]
  },
  {
   "cell_type": "code",
   "execution_count": 33,
   "id": "c3a9f4c9-5104-4bc1-94e2-8e20efa96c77",
   "metadata": {},
   "outputs": [
    {
     "data": {
      "text/plain": [
       "[0, 1, 2, 3, 4, 5, 6, 7, 8, 9]"
      ]
     },
     "execution_count": 33,
     "metadata": {},
     "output_type": "execute_result"
    }
   ],
   "source": [
    "list(range(0,10))"
   ]
  },
  {
   "cell_type": "code",
   "execution_count": 34,
   "id": "c874cafa-f9ac-479a-8ff8-64aac581a3a6",
   "metadata": {},
   "outputs": [
    {
     "data": {
      "text/plain": [
       "array([0, 1, 2, 3, 4, 5, 6, 7, 8, 9])"
      ]
     },
     "execution_count": 34,
     "metadata": {},
     "output_type": "execute_result"
    }
   ],
   "source": [
    "np.arange(0,10)"
   ]
  },
  {
   "cell_type": "code",
   "execution_count": 35,
   "id": "d6f7e592-64e7-4be0-be47-fde92e7fc864",
   "metadata": {},
   "outputs": [
    {
     "data": {
      "text/plain": [
       "array([0, 2, 4, 6, 8])"
      ]
     },
     "execution_count": 35,
     "metadata": {},
     "output_type": "execute_result"
    }
   ],
   "source": [
    "np.arange(0,10,2)"
   ]
  },
  {
   "cell_type": "code",
   "execution_count": 36,
   "id": "404a3700-de67-43bb-af7e-2ef4c6e5e441",
   "metadata": {},
   "outputs": [],
   "source": [
    "np_array_new = np.arange(0,10)"
   ]
  },
  {
   "cell_type": "code",
   "execution_count": 37,
   "id": "118bed7c-2e66-4b56-9513-62308c204fba",
   "metadata": {},
   "outputs": [
    {
     "data": {
      "text/plain": [
       "array([0, 1, 2, 3, 4, 5, 6, 7, 8, 9])"
      ]
     },
     "execution_count": 37,
     "metadata": {},
     "output_type": "execute_result"
    }
   ],
   "source": [
    "np_array_new"
   ]
  },
  {
   "cell_type": "code",
   "execution_count": 38,
   "id": "f1609dc6-8eba-4b00-82c7-fdf819b8d2c3",
   "metadata": {},
   "outputs": [
    {
     "data": {
      "text/plain": [
       "np.int64(0)"
      ]
     },
     "execution_count": 38,
     "metadata": {},
     "output_type": "execute_result"
    }
   ],
   "source": [
    "np_array_new[0]"
   ]
  },
  {
   "cell_type": "code",
   "execution_count": 40,
   "id": "4dffa4bf-e3b8-4148-9c02-197542790f1c",
   "metadata": {},
   "outputs": [
    {
     "data": {
      "text/plain": [
       "np.int64(1)"
      ]
     },
     "execution_count": 40,
     "metadata": {},
     "output_type": "execute_result"
    }
   ],
   "source": [
    "np_array_new[1]"
   ]
  },
  {
   "cell_type": "code",
   "execution_count": 41,
   "id": "f2d0d29b-cda7-4877-bb67-a664aa87f0b4",
   "metadata": {},
   "outputs": [
    {
     "data": {
      "text/plain": [
       "np.int64(9)"
      ]
     },
     "execution_count": 41,
     "metadata": {},
     "output_type": "execute_result"
    }
   ],
   "source": [
    "np_array_new[-1]"
   ]
  },
  {
   "cell_type": "code",
   "execution_count": 42,
   "id": "6008388e-84e1-4d96-a835-47e0003239cc",
   "metadata": {},
   "outputs": [
    {
     "data": {
      "text/plain": [
       "array([0, 1, 2, 3, 4, 5, 6, 7, 8, 9])"
      ]
     },
     "execution_count": 42,
     "metadata": {},
     "output_type": "execute_result"
    }
   ],
   "source": [
    "np_array_new[::]"
   ]
  },
  {
   "cell_type": "code",
   "execution_count": 43,
   "id": "bcbe2e4b-0335-4aaa-a3d5-12f570fe5b26",
   "metadata": {},
   "outputs": [
    {
     "data": {
      "text/plain": [
       "array([0, 1, 2, 3, 4, 5, 6, 7, 8])"
      ]
     },
     "execution_count": 43,
     "metadata": {},
     "output_type": "execute_result"
    }
   ],
   "source": [
    "np_array_new[:-1:]"
   ]
  },
  {
   "cell_type": "code",
   "execution_count": 44,
   "id": "8767a931-06a8-4d67-ae9d-ea2d29e4024f",
   "metadata": {},
   "outputs": [
    {
     "data": {
      "text/plain": [
       "array([1, 2, 3])"
      ]
     },
     "execution_count": 44,
     "metadata": {},
     "output_type": "execute_result"
    }
   ],
   "source": [
    "np_array_new[1:4:]"
   ]
  },
  {
   "cell_type": "code",
   "execution_count": 45,
   "id": "329f6ab8-c4ce-4102-8000-7ec861829f11",
   "metadata": {},
   "outputs": [
    {
     "data": {
      "text/plain": [
       "array([9, 8, 7, 6, 5, 4, 3, 2, 1, 0])"
      ]
     },
     "execution_count": 45,
     "metadata": {},
     "output_type": "execute_result"
    }
   ],
   "source": [
    "np_array_new[::-1]"
   ]
  },
  {
   "cell_type": "code",
   "execution_count": 46,
   "id": "5bcb93f6-3b00-4ec0-940e-f26d5d55aaf5",
   "metadata": {},
   "outputs": [
    {
     "data": {
      "text/plain": [
       "array([2, 4])"
      ]
     },
     "execution_count": 46,
     "metadata": {},
     "output_type": "execute_result"
    }
   ],
   "source": [
    "np_array_new[2:6:2]"
   ]
  },
  {
   "cell_type": "code",
   "execution_count": 47,
   "id": "cdba758a-67ff-405c-805c-24d7c18a8798",
   "metadata": {},
   "outputs": [],
   "source": [
    "#random"
   ]
  },
  {
   "cell_type": "code",
   "execution_count": 48,
   "id": "3044bc4a-fe8a-4c49-8753-8b7be2ae8ff4",
   "metadata": {},
   "outputs": [
    {
     "data": {
      "text/plain": [
       "array([-0.8973646 , -0.58062881,  1.81576641,  0.79733461])"
      ]
     },
     "execution_count": 48,
     "metadata": {},
     "output_type": "execute_result"
    }
   ],
   "source": [
    "np.random.randn(4)"
   ]
  },
  {
   "cell_type": "code",
   "execution_count": 49,
   "id": "20da9f20-717e-4a09-8eef-eafe386606da",
   "metadata": {},
   "outputs": [
    {
     "data": {
      "text/plain": [
       "array([[0.30059144, 0.50611357, 0.36120014, 0.56128437],\n",
       "       [0.52071417, 0.59695198, 0.40087493, 0.71811699],\n",
       "       [0.98382137, 0.54949945, 0.37248203, 0.93926011],\n",
       "       [0.77830561, 0.12749872, 0.24884488, 0.0431648 ]])"
      ]
     },
     "execution_count": 49,
     "metadata": {},
     "output_type": "execute_result"
    }
   ],
   "source": [
    "np.random.rand(4,4)"
   ]
  },
  {
   "cell_type": "code",
   "execution_count": 50,
   "id": "7f2d1536-2ff3-43ab-97f5-7f6626e35159",
   "metadata": {},
   "outputs": [
    {
     "data": {
      "text/plain": [
       "array([129,  67,  55, 168,  54])"
      ]
     },
     "execution_count": 50,
     "metadata": {},
     "output_type": "execute_result"
    }
   ],
   "source": [
    "np.random.randint(1,300,5)"
   ]
  },
  {
   "cell_type": "markdown",
   "id": "10c8734d-70c6-4581-86bd-3161e0310ed6",
   "metadata": {},
   "source": [
    "NUMPYDA MATRİSLERE GİRİŞ"
   ]
  },
  {
   "cell_type": "code",
   "execution_count": 51,
   "id": "43b373ef-965f-4761-8fc6-fe19d41a0973",
   "metadata": {},
   "outputs": [],
   "source": [
    "my_matrix = [[5,10],[15,20]]"
   ]
  },
  {
   "cell_type": "code",
   "execution_count": 52,
   "id": "ad171a12-56eb-42c9-badd-341d75623ccc",
   "metadata": {},
   "outputs": [
    {
     "data": {
      "text/plain": [
       "[5, 10]"
      ]
     },
     "execution_count": 52,
     "metadata": {},
     "output_type": "execute_result"
    }
   ],
   "source": [
    "my_matrix[0]"
   ]
  },
  {
   "cell_type": "code",
   "execution_count": 54,
   "id": "314bfd7d-8f26-48a1-ba47-09b051fc7099",
   "metadata": {},
   "outputs": [],
   "source": [
    "#row * column"
   ]
  },
  {
   "cell_type": "code",
   "execution_count": 55,
   "id": "b7b2a535-b1ae-4369-9571-03c2c5b392de",
   "metadata": {},
   "outputs": [],
   "source": [
    "#satır ve sütun sayısı , sırasıyla"
   ]
  },
  {
   "cell_type": "code",
   "execution_count": 56,
   "id": "32ac83f7-5c38-455c-9a8e-32281f0b74a7",
   "metadata": {},
   "outputs": [],
   "source": [
    "numpy_matrix = np.array([[5,10],[15,20]])"
   ]
  },
  {
   "cell_type": "code",
   "execution_count": 57,
   "id": "45486b8f-a830-41d0-887c-a11cf6e11643",
   "metadata": {},
   "outputs": [
    {
     "data": {
      "text/plain": [
       "array([[ 5, 10],\n",
       "       [15, 20]])"
      ]
     },
     "execution_count": 57,
     "metadata": {},
     "output_type": "execute_result"
    }
   ],
   "source": [
    "numpy_matrix"
   ]
  },
  {
   "cell_type": "code",
   "execution_count": 58,
   "id": "0343f253-ed98-42fa-8fd6-f7297fb78a5d",
   "metadata": {},
   "outputs": [
    {
     "data": {
      "text/plain": [
       "np.int64(50)"
      ]
     },
     "execution_count": 58,
     "metadata": {},
     "output_type": "execute_result"
    }
   ],
   "source": [
    "numpy_matrix.sum()"
   ]
  },
  {
   "cell_type": "code",
   "execution_count": 59,
   "id": "23e6dbf4-9430-4bac-b800-21c48a35fd35",
   "metadata": {},
   "outputs": [
    {
     "data": {
      "text/plain": [
       "array([[0., 0., 0., 0., 0.],\n",
       "       [0., 0., 0., 0., 0.],\n",
       "       [0., 0., 0., 0., 0.]])"
      ]
     },
     "execution_count": 59,
     "metadata": {},
     "output_type": "execute_result"
    }
   ],
   "source": [
    "np.zeros((3,5))"
   ]
  },
  {
   "cell_type": "markdown",
   "id": "79bf610b-94f6-487b-8d55-babee577b4e1",
   "metadata": {},
   "source": [
    "np.random.random((3,2))"
   ]
  },
  {
   "cell_type": "markdown",
   "id": "24262d3e-28c6-4288-bffc-beb099b8c538",
   "metadata": {},
   "source": [
    "MATRİX ARİTMETİĞİ"
   ]
  },
  {
   "cell_type": "code",
   "execution_count": 61,
   "id": "33470684-d0bf-4c14-8c41-bbbec91e24f9",
   "metadata": {},
   "outputs": [],
   "source": [
    "first_array = np.array([[10,20],[30,40]])"
   ]
  },
  {
   "cell_type": "code",
   "execution_count": 62,
   "id": "83cab3f1-bf6a-4ce4-90af-b67a5bc61b97",
   "metadata": {},
   "outputs": [],
   "source": [
    "second_array = np.array([[5,15],[25,35]])"
   ]
  },
  {
   "cell_type": "code",
   "execution_count": 63,
   "id": "ea804aaf-6aa6-4b40-9732-0c3aa45d3887",
   "metadata": {},
   "outputs": [
    {
     "data": {
      "text/plain": [
       "array([[15, 35],\n",
       "       [55, 75]])"
      ]
     },
     "execution_count": 63,
     "metadata": {},
     "output_type": "execute_result"
    }
   ],
   "source": [
    "first_array + second_array"
   ]
  },
  {
   "cell_type": "code",
   "execution_count": 64,
   "id": "c884e652-695d-4480-96fc-d2ef427e84f6",
   "metadata": {},
   "outputs": [],
   "source": [
    "third_array = np.array([[50,60]])"
   ]
  },
  {
   "cell_type": "code",
   "execution_count": 65,
   "id": "cfc68f2d-5077-4fef-9023-0491332009e7",
   "metadata": {},
   "outputs": [
    {
     "data": {
      "text/plain": [
       "array([[50, 60]])"
      ]
     },
     "execution_count": 65,
     "metadata": {},
     "output_type": "execute_result"
    }
   ],
   "source": [
    "third_array"
   ]
  },
  {
   "cell_type": "code",
   "execution_count": 66,
   "id": "e8c95228-73ce-445f-8b10-a93957b555f4",
   "metadata": {},
   "outputs": [
    {
     "data": {
      "text/plain": [
       "array([[ 60,  80],\n",
       "       [ 80, 100]])"
      ]
     },
     "execution_count": 66,
     "metadata": {},
     "output_type": "execute_result"
    }
   ],
   "source": [
    "first_array + third_array"
   ]
  },
  {
   "cell_type": "code",
   "execution_count": 67,
   "id": "57cf3d1c-283d-4a1a-a885-afe80cd7ea83",
   "metadata": {},
   "outputs": [],
   "source": [
    "third_array = np.array([[10],[20]])"
   ]
  },
  {
   "cell_type": "code",
   "execution_count": 68,
   "id": "b6bbc2b6-3a46-404b-8baa-731cb22ac0cb",
   "metadata": {},
   "outputs": [
    {
     "data": {
      "text/plain": [
       "array([[10],\n",
       "       [20]])"
      ]
     },
     "execution_count": 68,
     "metadata": {},
     "output_type": "execute_result"
    }
   ],
   "source": [
    "third_array"
   ]
  },
  {
   "cell_type": "code",
   "execution_count": 69,
   "id": "f5339bd5-2e6a-49d6-b46d-afffa484ce6b",
   "metadata": {},
   "outputs": [
    {
     "data": {
      "text/plain": [
       "array([[20, 30],\n",
       "       [50, 60]])"
      ]
     },
     "execution_count": 69,
     "metadata": {},
     "output_type": "execute_result"
    }
   ],
   "source": [
    "first_array + third_array"
   ]
  },
  {
   "cell_type": "markdown",
   "id": "b138e404-9ec9-40f3-970b-14c3fd4e240d",
   "metadata": {},
   "source": [
    "matrix multiplication\n"
   ]
  },
  {
   "cell_type": "code",
   "execution_count": 73,
   "id": "8c1799ac-4a36-4efd-be2f-12323c86639c",
   "metadata": {},
   "outputs": [],
   "source": [
    "#dot product -- gercek matris carpmasi"
   ]
  },
  {
   "cell_type": "code",
   "execution_count": 74,
   "id": "eac39d2e-d65a-4a33-9744-c4dca5d2e036",
   "metadata": {},
   "outputs": [],
   "source": [
    "first_matrix = np.array([[10,20,30]])\n"
   ]
  },
  {
   "cell_type": "code",
   "execution_count": 75,
   "id": "ab010a56-9759-4667-9f9e-a6a1a7954ce5",
   "metadata": {},
   "outputs": [
    {
     "data": {
      "text/plain": [
       "array([[10, 20, 30]])"
      ]
     },
     "execution_count": 75,
     "metadata": {},
     "output_type": "execute_result"
    }
   ],
   "source": [
    "first_matrix"
   ]
  },
  {
   "cell_type": "code",
   "execution_count": 76,
   "id": "d775111c-1558-4b69-9f45-ad9ee471738f",
   "metadata": {},
   "outputs": [],
   "source": [
    "second_matrix = np.array([[2,3],[2,3],[2,3]])\n"
   ]
  },
  {
   "cell_type": "code",
   "execution_count": 77,
   "id": "ec24cf25-899d-4bfb-88a2-ba981fbcf772",
   "metadata": {},
   "outputs": [
    {
     "data": {
      "text/plain": [
       "array([[2, 3],\n",
       "       [2, 3],\n",
       "       [2, 3]])"
      ]
     },
     "execution_count": 77,
     "metadata": {},
     "output_type": "execute_result"
    }
   ],
   "source": [
    "second_matrix"
   ]
  },
  {
   "cell_type": "code",
   "execution_count": 78,
   "id": "eb395feb-5b52-42b3-91d9-d97dbc9e0111",
   "metadata": {},
   "outputs": [
    {
     "data": {
      "text/plain": [
       "(1, 3)"
      ]
     },
     "execution_count": 78,
     "metadata": {},
     "output_type": "execute_result"
    }
   ],
   "source": [
    "first_matrix.shape"
   ]
  },
  {
   "cell_type": "code",
   "execution_count": 79,
   "id": "1cbc364e-6dbf-4c5e-846d-6d9cbb8aacc4",
   "metadata": {},
   "outputs": [
    {
     "data": {
      "text/plain": [
       "(3, 2)"
      ]
     },
     "execution_count": 79,
     "metadata": {},
     "output_type": "execute_result"
    }
   ],
   "source": [
    "second_matrix.shape"
   ]
  },
  {
   "cell_type": "code",
   "execution_count": 80,
   "id": "25996287-eaca-4ee2-9555-b1b3b3f4c209",
   "metadata": {},
   "outputs": [],
   "source": [
    "result_matrix = first_matrix.dot(second_matrix)\n"
   ]
  },
  {
   "cell_type": "code",
   "execution_count": 81,
   "id": "0dea517b-c384-4478-a88d-0c8859db60bd",
   "metadata": {},
   "outputs": [
    {
     "data": {
      "text/plain": [
       "array([[120, 180]])"
      ]
     },
     "execution_count": 81,
     "metadata": {},
     "output_type": "execute_result"
    }
   ],
   "source": [
    "result_matrix"
   ]
  },
  {
   "cell_type": "code",
   "execution_count": 82,
   "id": "a500ef4c-fa70-4593-a536-ce6b5dd95641",
   "metadata": {},
   "outputs": [
    {
     "data": {
      "text/plain": [
       "(1, 2)"
      ]
     },
     "execution_count": 82,
     "metadata": {},
     "output_type": "execute_result"
    }
   ],
   "source": [
    "result_matrix.shape"
   ]
  },
  {
   "cell_type": "markdown",
   "id": "9d3d03d6-6334-4fb9-95e1-7c9307c537fa",
   "metadata": {},
   "source": [
    "GERÇEK HAYAT ÖRNEKLERİ"
   ]
  },
  {
   "cell_type": "code",
   "execution_count": 83,
   "id": "277ee09d-29d8-4ef6-b1a6-46c7a9e44709",
   "metadata": {},
   "outputs": [],
   "source": [
    "new_array = np.random.randint(1,100,20)\n"
   ]
  },
  {
   "cell_type": "code",
   "execution_count": 84,
   "id": "cbb924d1-359e-483e-b849-d63fc4287ac0",
   "metadata": {},
   "outputs": [
    {
     "data": {
      "text/plain": [
       "array([65, 59, 90, 67, 77, 54, 72, 24, 42, 81, 11, 21, 69,  3, 85,  6, 68,\n",
       "       24, 32, 23])"
      ]
     },
     "execution_count": 84,
     "metadata": {},
     "output_type": "execute_result"
    }
   ],
   "source": [
    "new_array"
   ]
  },
  {
   "cell_type": "code",
   "execution_count": 85,
   "id": "5bca529f-c610-4014-b5b9-c379a42b53c1",
   "metadata": {},
   "outputs": [
    {
     "data": {
      "text/plain": [
       "array([ True,  True,  True,  True,  True,  True,  True, False,  True,\n",
       "        True, False, False,  True, False,  True, False,  True, False,\n",
       "        True, False])"
      ]
     },
     "execution_count": 85,
     "metadata": {},
     "output_type": "execute_result"
    }
   ],
   "source": [
    "new_array>25"
   ]
  },
  {
   "cell_type": "code",
   "execution_count": null,
   "id": "7fabd865-3b73-4f9f-8483-faf95367e126",
   "metadata": {
    "scrolled": true
   },
   "outputs": [],
   "source": [
    "new_array[new_array > 25"
   ]
  },
  {
   "cell_type": "code",
   "execution_count": null,
   "id": "2c9a8c00-8a8e-4f29-a580-07dc02231601",
   "metadata": {
    "scrolled": true
   },
   "outputs": [
    {
     "data": {
      "text/plain": [
       "array([65, 59, 90, 67, 77, 54, 72, 42, 81, 69, 85, 68, 32])"
      ]
     },
     "execution_count": 86,
     "metadata": {},
     "output_type": "execute_result"
    }
   ],
   "source": [
    "#transpoze işlemleri"
   ]
  },
  {
   "cell_type": "code",
   "execution_count": 87,
   "id": "3210c83c-79ca-4e4f-8f62-7b4de1acbec7",
   "metadata": {},
   "outputs": [],
   "source": [
    "matrix_array = np.array([[10,20],[20,30],[30,40]])\n"
   ]
  },
  {
   "cell_type": "code",
   "execution_count": 88,
   "id": "fa6e1516-d5b7-4ac8-a1c3-b307a136bfe8",
   "metadata": {},
   "outputs": [
    {
     "data": {
      "text/plain": [
       "array([[10, 20],\n",
       "       [20, 30],\n",
       "       [30, 40]])"
      ]
     },
     "execution_count": 88,
     "metadata": {},
     "output_type": "execute_result"
    }
   ],
   "source": [
    "matrix_array"
   ]
  },
  {
   "cell_type": "code",
   "execution_count": 89,
   "id": "e236036d-2af0-4b50-a2e3-50eeda9ceb3b",
   "metadata": {},
   "outputs": [
    {
     "data": {
      "text/plain": [
       "array([[10, 20, 30],\n",
       "       [20, 30, 40]])"
      ]
     },
     "execution_count": 89,
     "metadata": {},
     "output_type": "execute_result"
    }
   ],
   "source": [
    "matrix_array.transpose()\n"
   ]
  },
  {
   "cell_type": "code",
   "execution_count": 90,
   "id": "f7aa95bc-2fde-4499-bf71-7f1bf2a1656a",
   "metadata": {},
   "outputs": [
    {
     "data": {
      "text/plain": [
       "array([[10, 20, 30],\n",
       "       [20, 30, 40]])"
      ]
     },
     "execution_count": 90,
     "metadata": {},
     "output_type": "execute_result"
    }
   ],
   "source": [
    "matrix_array.T"
   ]
  },
  {
   "cell_type": "code",
   "execution_count": 91,
   "id": "0b4f7ddb-c0b9-45ab-8266-8b9dfea71f01",
   "metadata": {},
   "outputs": [],
   "source": [
    "random_array = np.random.random((6,1))\n"
   ]
  },
  {
   "cell_type": "code",
   "execution_count": 92,
   "id": "16302cce-4126-44ba-b566-3f68dba27818",
   "metadata": {},
   "outputs": [
    {
     "data": {
      "text/plain": [
       "array([[0.20570248],\n",
       "       [0.93865636],\n",
       "       [0.23292725],\n",
       "       [0.94775971],\n",
       "       [0.61779365],\n",
       "       [0.03099849]])"
      ]
     },
     "execution_count": 92,
     "metadata": {},
     "output_type": "execute_result"
    }
   ],
   "source": [
    "random_array"
   ]
  },
  {
   "cell_type": "code",
   "execution_count": 93,
   "id": "6b50aa5a-8ddf-48fe-81e9-ac0d18b60c4c",
   "metadata": {},
   "outputs": [
    {
     "data": {
      "text/plain": [
       "array([[0.20570248, 0.93865636, 0.23292725],\n",
       "       [0.94775971, 0.61779365, 0.03099849]])"
      ]
     },
     "execution_count": 93,
     "metadata": {},
     "output_type": "execute_result"
    }
   ],
   "source": [
    "random_array.reshape(2,3)\n"
   ]
  },
  {
   "cell_type": "code",
   "execution_count": 94,
   "id": "8fcd1709-d5cd-43cd-a4b5-b97e144a90ca",
   "metadata": {},
   "outputs": [
    {
     "data": {
      "text/plain": [
       "array([[0.20570248, 0.93865636],\n",
       "       [0.23292725, 0.94775971],\n",
       "       [0.61779365, 0.03099849]])"
      ]
     },
     "execution_count": 94,
     "metadata": {},
     "output_type": "execute_result"
    }
   ],
   "source": [
    "random_array.reshape(3,2)\n"
   ]
  },
  {
   "cell_type": "markdown",
   "id": "3f172763-59e5-48d9-870b-b8abf8bef0e1",
   "metadata": {},
   "source": [
    "REAL LIFE CASES"
   ]
  },
  {
   "cell_type": "code",
   "execution_count": 95,
   "id": "d4acaa15-92c2-4548-9d16-7475d774f100",
   "metadata": {},
   "outputs": [],
   "source": [
    "data = np.array([10,12,13,15,18,25,100,105])"
   ]
  },
  {
   "cell_type": "code",
   "execution_count": 96,
   "id": "98e323eb-2bdc-47c1-ba8e-83f0cfc8b97a",
   "metadata": {},
   "outputs": [],
   "source": [
    "#compute z-scores\n",
    "#first we find our data's mean"
   ]
  },
  {
   "cell_type": "code",
   "execution_count": 97,
   "id": "a663739f-598a-4e9c-af1c-e623732eed28",
   "metadata": {},
   "outputs": [],
   "source": [
    "mean = np.mean(data)"
   ]
  },
  {
   "cell_type": "code",
   "execution_count": 98,
   "id": "82937096-73e8-42de-821e-ea7c31239462",
   "metadata": {},
   "outputs": [
    {
     "data": {
      "text/plain": [
       "np.float64(37.25)"
      ]
     },
     "execution_count": 98,
     "metadata": {},
     "output_type": "execute_result"
    }
   ],
   "source": [
    "mean"
   ]
  },
  {
   "cell_type": "code",
   "execution_count": 99,
   "id": "1f6a99d7-ff2c-40ea-bfa0-e586f76ef870",
   "metadata": {},
   "outputs": [],
   "source": [
    "#standart sapmasını bulalım verinin ortalama etrafında ne kadar yayıldığını ölçer"
   ]
  },
  {
   "cell_type": "code",
   "execution_count": 100,
   "id": "ccff2c31-e6a4-4605-8d2b-2aa6e27aba1e",
   "metadata": {},
   "outputs": [],
   "source": [
    "std = np.std(data)"
   ]
  },
  {
   "cell_type": "code",
   "execution_count": 101,
   "id": "fa67c310-c9a9-4495-810c-b49e3342b657",
   "metadata": {},
   "outputs": [
    {
     "data": {
      "text/plain": [
       "np.float64(37.9333296719389)"
      ]
     },
     "execution_count": 101,
     "metadata": {},
     "output_type": "execute_result"
    }
   ],
   "source": [
    "std"
   ]
  },
  {
   "cell_type": "code",
   "execution_count": 102,
   "id": "0803c586-ec41-4355-9094-70feebf8a027",
   "metadata": {},
   "outputs": [],
   "source": [
    "#şimdi z score bulalım\n",
    "z_scores = (data - mean) / std"
   ]
  },
  {
   "cell_type": "code",
   "execution_count": 103,
   "id": "0632d02d-44ba-4170-a467-b517fd81c52b",
   "metadata": {},
   "outputs": [
    {
     "data": {
      "text/plain": [
       "array([-0.71836562, -0.66564154, -0.6392795 , -0.58655542, -0.50746929,\n",
       "       -0.322935  ,  1.65421809,  1.78602829])"
      ]
     },
     "execution_count": 103,
     "metadata": {},
     "output_type": "execute_result"
    }
   ],
   "source": [
    "z_scores"
   ]
  },
  {
   "cell_type": "code",
   "execution_count": 104,
   "id": "8a1f9139-7a81-421e-94ef-07a57c905964",
   "metadata": {},
   "outputs": [
    {
     "data": {
      "text/plain": [
       "array([False, False, False, False, False, False,  True,  True])"
      ]
     },
     "execution_count": 104,
     "metadata": {},
     "output_type": "execute_result"
    }
   ],
   "source": [
    "np.abs(z_scores) > 1"
   ]
  },
  {
   "cell_type": "code",
   "execution_count": 105,
   "id": "2b9dc52e-de00-43a8-ba5d-d8afddd024c7",
   "metadata": {},
   "outputs": [],
   "source": [
    "outliers = data[np.abs(z_scores) > 1]"
   ]
  },
  {
   "cell_type": "code",
   "execution_count": 106,
   "id": "a9b7aec9-676a-47bc-8198-9270c7aac746",
   "metadata": {},
   "outputs": [
    {
     "data": {
      "text/plain": [
       "array([100, 105])"
      ]
     },
     "execution_count": 106,
     "metadata": {},
     "output_type": "execute_result"
    }
   ],
   "source": [
    "outliers"
   ]
  },
  {
   "cell_type": "code",
   "execution_count": null,
   "id": "2807aa9d-d85d-4e38-909f-1e1db6e7a5c6",
   "metadata": {},
   "outputs": [],
   "source": [
    "#abs ile negatif değerler mutlak deegere dönüştürüüyor.uç değerler de > 1 olanlar olmus olyuyor.\n"
   ]
  },
  {
   "cell_type": "code",
   "execution_count": 107,
   "id": "1e777dce-4d4c-4a47-8864-1fd3416d0799",
   "metadata": {},
   "outputs": [],
   "source": [
    "##math equations"
   ]
  },
  {
   "cell_type": "code",
   "execution_count": 108,
   "id": "2560ed13-cf39-4c7e-8a85-dbd8fbcddbdb",
   "metadata": {},
   "outputs": [],
   "source": [
    "# Solve 2x + 3y = 8 and 5x + 7y = 19\n"
   ]
  },
  {
   "cell_type": "code",
   "execution_count": 109,
   "id": "08630584-028d-4845-9db6-5dd62836a076",
   "metadata": {},
   "outputs": [],
   "source": [
    "#önce coefficientları yazarız yani 2,3,5,7 yi felan."
   ]
  },
  {
   "cell_type": "code",
   "execution_count": 110,
   "id": "7400cd37-a40a-4975-b9aa-ac127fceb826",
   "metadata": {},
   "outputs": [],
   "source": [
    "A = np.array([[2,3],[5,7]])"
   ]
  },
  {
   "cell_type": "code",
   "execution_count": 111,
   "id": "97aa98e1-9221-4cd2-99ea-42a2a9fdbc95",
   "metadata": {},
   "outputs": [],
   "source": [
    "#constant matris"
   ]
  },
  {
   "cell_type": "code",
   "execution_count": 112,
   "id": "c7a3dd0c-eaf9-4688-aa9e-8cd314cf641e",
   "metadata": {},
   "outputs": [],
   "source": [
    "b = np.array([8,19])"
   ]
  },
  {
   "cell_type": "code",
   "execution_count": 113,
   "id": "276dd82c-309d-4d0b-acab-2d5b539e6fb1",
   "metadata": {},
   "outputs": [],
   "source": [
    "#solve for x and y"
   ]
  },
  {
   "cell_type": "code",
   "execution_count": 114,
   "id": "113bfb34-0f7b-4b2e-b943-fd898253d7ba",
   "metadata": {},
   "outputs": [],
   "source": [
    "solution = np.linalg.solve(A,b)"
   ]
  },
  {
   "cell_type": "code",
   "execution_count": 115,
   "id": "79d6f61b-f54e-4561-b603-f89d7782b47c",
   "metadata": {},
   "outputs": [
    {
     "data": {
      "text/plain": [
       "array([1., 2.])"
      ]
     },
     "execution_count": 115,
     "metadata": {},
     "output_type": "execute_result"
    }
   ],
   "source": [
    "solution"
   ]
  },
  {
   "cell_type": "code",
   "execution_count": null,
   "id": "f56597b1-8fed-474c-91f5-e9e6314f2623",
   "metadata": {},
   "outputs": [],
   "source": []
  }
 ],
 "metadata": {
  "kernelspec": {
   "display_name": "Python [conda env:base] *",
   "language": "python",
   "name": "conda-base-py"
  },
  "language_info": {
   "codemirror_mode": {
    "name": "ipython",
    "version": 3
   },
   "file_extension": ".py",
   "mimetype": "text/x-python",
   "name": "python",
   "nbconvert_exporter": "python",
   "pygments_lexer": "ipython3",
   "version": "3.13.5"
  }
 },
 "nbformat": 4,
 "nbformat_minor": 5
}
